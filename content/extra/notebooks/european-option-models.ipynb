{
 "metadata": {
  "name": "",
  "signature": "sha256:df7f908023832377bb1d2af213a3b191a098775b9d369f53eaa1cef2b30d8646"
 },
 "nbformat": 3,
 "nbformat_minor": 0,
 "worksheets": [
  {
   "cells": [
    {
     "cell_type": "markdown",
     "metadata": {},
     "source": [
      "# Option Pricing with QuantLib and Python\n",
      "[Gouthaman Balaraman](http://gouthamanbalaraman.com)"
     ]
    },
    {
     "cell_type": "markdown",
     "metadata": {},
     "source": [
      "I have written about option pricing earlier. The [introduction to option pricing](http://gouthamanbalaraman.com/blog/option-model-handbook-part-I-introduction-to-option-models.html) gave an overview of the theory behind option pricing. The post on [introduction to binomial trees](http://gouthamanbalaraman.com/blog/option-model-handbook-part-II-introduction-to-binomial-trees.html) outlined the binomial tree method to price options.\n",
      "\n",
      "In this post, we will use QuantLib and the Python extension to illustrate a very simple example. Here we are going to price a European option using the Black-Scholes-Merton formula. We will price them again using the Binomial tree and understand the agreement between the two. "
     ]
    },
    {
     "cell_type": "code",
     "collapsed": false,
     "input": [
      "import QuantLib as ql # version 1.5\n",
      "import matplotlib.pyplot as plt\n",
      "%matplotlib inline"
     ],
     "language": "python",
     "metadata": {},
     "outputs": [],
     "prompt_number": 1
    },
    {
     "cell_type": "markdown",
     "metadata": {},
     "source": [
      "Let us consider a European call option for AAPL with a strike price of \\$130 maturing on 15th Jan, 2016. Let the spot price be \\$127.62. The volatility of the underlying stock is know to be 20%, and has a dividend yield of 1.63%. Lets value this option as of 8th May, 2015."
     ]
    },
    {
     "cell_type": "code",
     "collapsed": false,
     "input": [
      "# option data\n",
      "maturity_date = ql.Date(15, 1, 2016)\n",
      "spot_price = 127.62\n",
      "strike_price = 130\n",
      "volatility = 0.20 # the historical vols for a year\n",
      "dividend_rate =  0.0163\n",
      "option_type = ql.Option.Call\n",
      "\n",
      "risk_free_rate = 0.001\n",
      "day_count = ql.Actual365Fixed()\n",
      "calendar = ql.UnitedStates()\n",
      "\n",
      "calculation_date = ql.Date(8, 5, 2015)\n",
      "ql.Settings.instance().evaluationDate = calculation_date"
     ],
     "language": "python",
     "metadata": {},
     "outputs": [],
     "prompt_number": 2
    },
    {
     "cell_type": "markdown",
     "metadata": {},
     "source": [
      "We construct the European option here."
     ]
    },
    {
     "cell_type": "code",
     "collapsed": false,
     "input": [
      "# construct the European Option\n",
      "payoff = ql.PlainVanillaPayoff(option_type, strike_price)\n",
      "exercise = ql.EuropeanExercise(maturity_date)\n",
      "european_option = ql.VanillaOption(payoff, exercise)"
     ],
     "language": "python",
     "metadata": {},
     "outputs": [],
     "prompt_number": 3
    },
    {
     "cell_type": "markdown",
     "metadata": {},
     "source": [
      "The Black-Scholes-Merto process is constructed here."
     ]
    },
    {
     "cell_type": "code",
     "collapsed": false,
     "input": [
      "spot_handle = ql.QuoteHandle(\n",
      "    ql.SimpleQuote(spot_price)\n",
      ")\n",
      "flat_ts = ql.YieldTermStructureHandle(\n",
      "    ql.FlatForward(calculation_date, risk_free_rate, day_count)\n",
      ")\n",
      "dividend_yield = ql.YieldTermStructureHandle(\n",
      "    ql.FlatForward(calculation_date, dividend_rate, day_count)\n",
      ")\n",
      "flat_vol_ts = ql.BlackVolTermStructureHandle(\n",
      "    ql.BlackConstantVol(calculation_date, calendar, volatility, day_count)\n",
      ")\n",
      "bsm_process = ql.BlackScholesMertonProcess(spot_handle, \n",
      "                                           dividend_yield, \n",
      "                                           flat_ts, \n",
      "                                           flat_vol_ts)"
     ],
     "language": "python",
     "metadata": {},
     "outputs": [],
     "prompt_number": 4
    },
    {
     "cell_type": "markdown",
     "metadata": {},
     "source": [
      "Lets compute the theoretical price using the `AnalyticEuropeanEngine`."
     ]
    },
    {
     "cell_type": "code",
     "collapsed": false,
     "input": [
      "european_option.setPricingEngine(ql.AnalyticEuropeanEngine(bsm_process))\n",
      "bs_price = european_option.NPV()\n",
      "print \"The theoretical price is \", bs_price"
     ],
     "language": "python",
     "metadata": {},
     "outputs": [
      {
       "output_type": "stream",
       "stream": "stdout",
       "text": [
        "The theoretical price is  6.74927181246\n"
       ]
      }
     ],
     "prompt_number": 5
    },
    {
     "cell_type": "markdown",
     "metadata": {},
     "source": [
      "Lets compute the price using the binomial-tree approach."
     ]
    },
    {
     "cell_type": "code",
     "collapsed": false,
     "input": [
      "def binomial_price(bsm_process, steps):\n",
      "    binomial_engine = ql.BinomialVanillaEngine(bsm_process, \"crr\", steps)\n",
      "    european_option.setPricingEngine(binomial_engine)\n",
      "    return european_option.NPV()\n",
      "\n",
      "steps = range(2, 100, 1)\n",
      "prices = [binomial_price(bsm_process, step) for step in steps]"
     ],
     "language": "python",
     "metadata": {},
     "outputs": [],
     "prompt_number": 6
    },
    {
     "cell_type": "markdown",
     "metadata": {},
     "source": [
      "In the plot below, we show the convergence of binomial-tree approach by comparing its price with the BSM price."
     ]
    },
    {
     "cell_type": "code",
     "collapsed": false,
     "input": [
      "plt.plot(steps, prices, label=\"Binomial Tree Price\", lw=2, alpha=0.6)\n",
      "plt.plot([0,100],[bs_price, bs_price], \"r--\", label=\"BSM Price\", lw=2, alpha=0.6)\n",
      "plt.xlabel(\"Steps\")\n",
      "plt.ylabel(\"Price\")\n",
      "plt.title(\"Binomial Tree Price For Varying Steps\")\n",
      "plt.legend()"
     ],
     "language": "python",
     "metadata": {},
     "outputs": [
      {
       "metadata": {},
       "output_type": "pyout",
       "prompt_number": 8,
       "text": [
        "<matplotlib.legend.Legend at 0x7f0b85fa7510>"
       ]
      },
      {
       "metadata": {},
       "output_type": "display_data",
       "png": "[encoded data removed]",
       "text": [
        "<matplotlib.figure.Figure at 0x7f0b97fdc110>"
       ]
      }
     ],
     "prompt_number": 8
    }
   ],
   "metadata": {}
  }
 ]
}