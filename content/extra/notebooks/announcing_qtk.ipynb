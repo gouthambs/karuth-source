{
 "metadata": {
  "name": "",
  "signature": "sha256:e0091cd60b5f7edd14a20bf65c9f77e944ce7ec5fa1ff8635d4c7d57d47c632b"
 },
 "nbformat": 3,
 "nbformat_minor": 0,
 "worksheets": [
  {
   "cells": [
    {
     "cell_type": "markdown",
     "metadata": {},
     "source": [
      "# Announcing qtk for QuantLib Python"
     ]
    },
    {
     "cell_type": "markdown",
     "metadata": {},
     "source": [
      "I have blogged about using QuantLib Python in this tutorial series. Learning QuantLib Python involves a knowledge of the various syntax and paying a lot of attention to detail such as the various conventions. I have started to work on the package `qtk` that adds a layer on top of QuantLib python by making it data driven. What do I mean by that?\n",
      "\n",
      "The `qtk` package relies on data in the form of Python `dict` and then uses this data to form QuantLib objects behind the scenes. Lets take a look at a small example that replicates my example on [bond modeling in QuantLib Python](http://gouthamanbalaraman.com/blog/quantlib-bond-modeling.html)"
     ]
    },
    {
     "cell_type": "code",
     "collapsed": false,
     "input": [
      "from qtk import Controller, Field as F, Template as T"
     ],
     "language": "python",
     "metadata": {},
     "outputs": [],
     "prompt_number": 1
    },
    {
     "cell_type": "markdown",
     "metadata": {},
     "source": [
      "The `Template` class directly maps to the different kinds of QuantLib objects that are supported. For instance the `Template.TS_YIELD_ZERO` corresponds to the zero yield term structure. The `Field` class has all the properties that are needed by the various `Template`s. The `Controller` class is what does all the processing to create QuantLib objects behind the scenes. Let us look at a minimal example below, and then explain the different features in detail."
     ]
    },
    {
     "cell_type": "code",
     "collapsed": false,
     "input": [
      "data = [\n",
      "    {\n",
      "        F.LIST_OF_DATES.id: [\"1/15/2015\", \"7/15/2015\", \"1/15/2016\"],\n",
      "        F.LIST_OF_ZERO_RATES.id: [0.0, 0.005, 0.007],\n",
      "        F.DISCOUNT_BASIS.id: \"30/360\",\n",
      "        F.DISCOUNT_CALENDAR.id: \"UnitedStates\",\n",
      "        F.COMPOUNDING.id: \"Compounded\",\n",
      "        F.COMPOUNDING_FREQ.id: \"Annual\",\n",
      "        F.CURRENCY.id: \"USD\",\n",
      "        F.TEMPLATE.id: T.TS_YIELD_ZERO.id,\n",
      "        F.OBJECT_ID.id: \"USD.Zero.Curve\"},\n",
      "    {\n",
      "        F.OBJECT_ID.id: \"BondEngine\",\n",
      "        F.DISCOUNT_CURVE.id: \"->USD.Zero.Curve\",\n",
      "        F.TEMPLATE.id: T.ENG_BOND_DISCOUNTING.id},\n",
      "    {\n",
      "        F.ASOF_DATE.id: '2016-01-15',\n",
      "        F.COUPON.id: 0.06,\n",
      "        F.COUPON_FREQ.id: \"Semiannual\",\n",
      "        F.CURRENCY.id: 'USD',\n",
      "        F.PAYMENT_BASIS.id: '30/360',\n",
      "        F.ISSUE_DATE.id: '2015-01-15',\n",
      "        F.MATURITY_DATE.id: '2016-01-15',\n",
      "        F.ACCRUAL_CALENDAR.id: \"UnitedStates\",\n",
      "        F.ACCRUAL_DAY_CONVENTION.id: \"Unadjusted\",\n",
      "        F.DATE_GENERATION.id: \"Backward\",\n",
      "        F.END_OF_MONTH.id: False,\n",
      "        F.OBJECT_ID.id: \"USD.TBond\",\n",
      "        F.PRICING_ENGINE.id: \"->BondEngine\",\n",
      "        F.TEMPLATE.id: T.INST_BOND_TBOND.id}\n",
      "]\n",
      "\n",
      "res = Controller(data)\n",
      "asof_date = \"1/15/2015\"\n",
      "\n",
      "ret = res.process(asof_date)\n",
      "tbond = res.object(\"USD.TBond\")\n",
      "print tbond.NPV()"
     ],
     "language": "python",
     "metadata": {},
     "outputs": [
      {
       "output_type": "stream",
       "stream": "stdout",
       "text": [
        "105.276539925\n"
       ]
      }
     ],
     "prompt_number": 2
    },
    {
     "cell_type": "markdown",
     "metadata": {},
     "source": [
      "Now let us disect the code above to understand the specifics. The `Controller` class takes a `list` of `dict` as input, provided here by the variable `data`. In the above example, we have used qtk mnemonics such as `Field.TEMPLATE.id` instead of directly using the text \"Template\". The content of data is as shown below:"
     ]
    },
    {
     "cell_type": "code",
     "collapsed": false,
     "input": [
      "data"
     ],
     "language": "python",
     "metadata": {},
     "outputs": [
      {
       "metadata": {},
       "output_type": "pyout",
       "prompt_number": 3,
       "text": [
        "[{'Compounding': 'Compounded',\n",
        "  'CompoundingFrequency': 'Annual',\n",
        "  'Currency': 'USD',\n",
        "  'DiscountBasis': '30/360',\n",
        "  'DiscountCalendar': 'UnitedStates',\n",
        "  'ListOfDate': ['1/15/2015', '7/15/2015', '1/15/2016'],\n",
        "  'ListOfZeroRate': [0.0, 0.005, 0.007],\n",
        "  'ObjectId': 'USD.Zero.Curve',\n",
        "  'Template': 'TermStructure.Yield.ZeroCurve'},\n",
        " {'DiscountCurve': '->USD.Zero.Curve',\n",
        "  'ObjectId': 'BondEngine',\n",
        "  'Template': 'Engine.Bond.Discounting'},\n",
        " {'AccrualCalendar': 'UnitedStates',\n",
        "  'AccrualDayConvention': 'Unadjusted',\n",
        "  'AsOfDate': '2016-01-15',\n",
        "  'Coupon': 0.06,\n",
        "  'CouponFrequency': 'Semiannual',\n",
        "  'Currency': 'USD',\n",
        "  'DateGeneration': 'Backward',\n",
        "  'EndOfMonth': False,\n",
        "  'IssueDate': '2015-01-15',\n",
        "  'MaturityDate': '2016-01-15',\n",
        "  'ObjectId': 'USD.TBond',\n",
        "  'PaymentBasis': '30/360',\n",
        "  'PricingEngine': '->BondEngine',\n",
        "  'Template': 'Instrument.Bond.TreasuryBond'}]"
       ]
      }
     ],
     "prompt_number": 3
    },
    {
     "cell_type": "markdown",
     "metadata": {},
     "source": [
      "Every `dict` corresponds to an object, with the key value pairs being the attributes required in the creation of that object. The value of the key `Template` denotes what object is created. So for instance, in the above example the value `Engine.Bond.Discounting` denotes \n",
      "the `DiscountingBondEngine`. In the above data, every dict has a key `ObjectId` which is a unique name required for every object. Objects can be cross referenced by using the special prefix \"->\" along with the `ObjectId`. You can see this usage in the last `dict` where the `PricingEngine` references the `BondEngine` object, and the `BondEngine` object references the `USD.Zero.Curve` yield term structure.\n",
      "\n",
      "Once the data is prepared, the API call to process is extremely simple because `qtk` does the major brunt of interfacing with QuantLib."
     ]
    },
    {
     "cell_type": "raw",
     "metadata": {},
     "source": [
      "res = Controller(data)\n",
      "asof_date = \"1/15/2015\"\n",
      "\n",
      "ret = res.process(asof_date)\n",
      "tbond = res.object(\"USD.TBond\")\n",
      "print tbond.NPV()"
     ]
    },
    {
     "cell_type": "markdown",
     "metadata": {},
     "source": [
      "The `Controller` accepts the `data` and the `process` method processes as of the calculation date. Once processed, the QuantLib objects can be accessed and queried for output.\n",
      "\n",
      "This project is alpha and has a few templates written as of now. Would love to hear your thoughts. Checkout the [qtk project page](https://github.com/gouthambs/qtk-python) to get involved."
     ]
    }
   ],
   "metadata": {}
  }
 ]
}