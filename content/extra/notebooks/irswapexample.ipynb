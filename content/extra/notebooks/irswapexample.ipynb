{
 "metadata": {
  "name": "",
  "signature": "sha256:895db9bfabc8654c424bf7edf2b0cf7226783f5d192bbcae4a5092494d46432a"
 },
 "nbformat": 3,
 "nbformat_minor": 0,
 "worksheets": [
  {
   "cells": [
    {
     "cell_type": "markdown",
     "metadata": {},
     "source": [
      "# Modeling Interest Rate Swap Using QuantLib\n",
      "[Goutham Balaraman](http://gouthamanbalaraman.com)"
     ]
    },
    {
     "cell_type": "markdown",
     "metadata": {},
     "source": [
      "An Interest Rate Swap is a financial derivative instrument in which two parties agree to exchange interest rate cash flows based on a notional amount from a fixed rate to a floating rate or from one floating rate to another floating rate. \n",
      "\n",
      "Here we will consider an example of a plain vanilla USD swap with 10 million notional and 10 year maturity. Let the fixed leg pay 2.5% coupon semiannually, and the floating leg pay Libor 3m quarterly. "
     ]
    },
    {
     "cell_type": "markdown",
     "metadata": {},
     "source": [
      "## Sample Code"
     ]
    },
    {
     "cell_type": "code",
     "collapsed": false,
     "input": [
      "# <!-- collapse=True -->\n",
      "import QuantLib as ql\n",
      "calculation_date = ql.Date(20, 10, 2015)\n",
      "ql.Settings.instance().evaluationDate = calculation_date"
     ],
     "language": "python",
     "metadata": {},
     "outputs": [],
     "prompt_number": 1
    },
    {
     "cell_type": "markdown",
     "metadata": {},
     "source": [
      "Here we construct the yield curve objects. For simplicity, we will use flat curves for discounting and Libor 3M. This will help us focus on the Swap construction part. Please refer to [curve construction example](http://gouthamanbalaraman.com/blog/quantlib-term-structure-bootstrap-yield-curve.html) for some details. Once we construct the "
     ]
    },
    {
     "cell_type": "code",
     "collapsed": false,
     "input": [
      "# construct discount curve and libor curve\n",
      "\n",
      "risk_free_rate = 0.01\n",
      "libor_rate = 0.02\n",
      "day_count = ql.Actual365Fixed()\n",
      "\n",
      "discount_curve = ql.YieldTermStructureHandle(\n",
      "    ql.FlatForward(calculation_date, risk_free_rate, day_count)\n",
      ")\n",
      "\n",
      "libor_curve = ql.YieldTermStructureHandle(\n",
      "    ql.FlatForward(calculation_date, libor_rate, day_count)\n",
      ")\n",
      "#libor3M_index = ql.Euribor3M(libor_curve)  \n",
      "libor3M_index = ql.USDLibor(ql.Period(3, ql.Months), libor_curve)"
     ],
     "language": "python",
     "metadata": {},
     "outputs": [],
     "prompt_number": 2
    },
    {
     "cell_type": "markdown",
     "metadata": {},
     "source": [
      "To construct the Swap instrument, we have to specify the fixed rate leg and floating rate leg. We construct the fixed rate and floating rate leg schedules below."
     ]
    },
    {
     "cell_type": "code",
     "collapsed": false,
     "input": [
      "calendar = ql.UnitedStates()\n",
      "settle_date = calendar.advance(calculation_date, 5, ql.Days)\n",
      "maturity_date = calendar.advance(settle_date, 10, ql.Years)\n",
      "\n",
      "fixed_leg_tenor = ql.Period(6, ql.Months)\n",
      "fixed_schedule = ql.Schedule(settle_date, maturity_date, \n",
      "                             fixed_leg_tenor, calendar,\n",
      "                             ql.ModifiedFollowing, ql.ModifiedFollowing,\n",
      "                             ql.DateGeneration.Forward, False)\n",
      "\n",
      "float_leg_tenor = ql.Period(3, ql.Months)\n",
      "float_schedule = ql.Schedule (settle_date, maturity_date, \n",
      "                              float_leg_tenor, calendar,\n",
      "                              ql.ModifiedFollowing, ql.ModifiedFollowing,\n",
      "                              ql.DateGeneration.Forward, False)\n",
      "\n"
     ],
     "language": "python",
     "metadata": {},
     "outputs": [],
     "prompt_number": 3
    },
    {
     "cell_type": "markdown",
     "metadata": {},
     "source": [
      "Below, we construct a `VanillaSwap` object  by including the fixed and float leg schedules created above."
     ]
    },
    {
     "cell_type": "code",
     "collapsed": false,
     "input": [
      "notional = 10000000\n",
      "fixed_rate = 0.025\n",
      "fixed_leg_daycount = ql.Actual360()\n",
      "float_spread = 0.004\n",
      "float_leg_daycount = ql.Actual360()\n",
      "\n",
      "ir_swap = ql.VanillaSwap(ql.VanillaSwap.Payer, notional, fixed_schedule, \n",
      "               fixed_rate, fixed_leg_daycount, float_schedule,\n",
      "               libor3M_index, float_spread, float_leg_daycount )"
     ],
     "language": "python",
     "metadata": {},
     "outputs": [],
     "prompt_number": 4
    },
    {
     "cell_type": "markdown",
     "metadata": {},
     "source": [
      "We evaluate the swap using a discounting engine."
     ]
    },
    {
     "cell_type": "code",
     "collapsed": false,
     "input": [
      "swap_engine = ql.DiscountingSwapEngine(discount_curve)\n",
      "ir_swap.setPricingEngine(swap_engine)"
     ],
     "language": "python",
     "metadata": {},
     "outputs": [],
     "prompt_number": 5
    },
    {
     "cell_type": "markdown",
     "metadata": {},
     "source": [
      "## Result Analysis"
     ]
    },
    {
     "cell_type": "markdown",
     "metadata": {},
     "source": [
      "The cashflows for the fixed and floating leg can be extracted from the `ir_swap` object. The fixed leg cashflows are shown below:"
     ]
    },
    {
     "cell_type": "code",
     "collapsed": false,
     "input": [
      "# <!-- collapse=True -->\n",
      "for i, cf in enumerate(ir_swap.leg(0)):\n",
      "    print \"%2d    %-18s  %10.2f\"%(i+1, cf.date(), cf.amount())"
     ],
     "language": "python",
     "metadata": {},
     "outputs": [
      {
       "output_type": "stream",
       "stream": "stdout",
       "text": [
        " 1    April 27th, 2016     127083.33\n",
        " 2    October 27th, 2016   127083.33\n",
        " 3    April 27th, 2017     126388.89\n",
        " 4    October 27th, 2017   127083.33\n",
        " 5    April 27th, 2018     126388.89\n",
        " 6    October 29th, 2018   128472.22\n",
        " 7    April 29th, 2019     126388.89\n",
        " 8    October 28th, 2019   126388.89\n",
        " 9    April 27th, 2020     126388.89\n",
        "10    October 27th, 2020   127083.33\n",
        "11    April 27th, 2021     126388.89\n",
        "12    October 27th, 2021   127083.33\n",
        "13    April 27th, 2022     126388.89\n",
        "14    October 27th, 2022   127083.33\n",
        "15    April 27th, 2023     126388.89\n",
        "16    October 27th, 2023   127083.33\n",
        "17    April 29th, 2024     128472.22\n",
        "18    October 28th, 2024   126388.89\n",
        "19    April 28th, 2025     126388.89\n",
        "20    October 27th, 2025   126388.89\n"
       ]
      }
     ],
     "prompt_number": 6
    },
    {
     "cell_type": "markdown",
     "metadata": {},
     "source": [
      "The floating leg cashflows are shown below:"
     ]
    },
    {
     "cell_type": "code",
     "collapsed": false,
     "input": [
      "# <!-- collapse=True -->\n",
      "for i, cf in enumerate(ir_swap.leg(1)):\n",
      "    print \"%2d    %-18s  %10.2f\"%(i+1, cf.date(), cf.amount())"
     ],
     "language": "python",
     "metadata": {},
     "outputs": [
      {
       "output_type": "stream",
       "stream": "stdout",
       "text": [
        " 1    January 27th, 2016    60760.46\n",
        " 2    April 27th, 2016      60098.65\n",
        " 3    July 27th, 2016       60098.65\n",
        " 4    October 27th, 2016    60760.46\n",
        " 5    January 27th, 2017    60760.46\n",
        " 6    April 27th, 2017      59436.87\n",
        " 7    July 27th, 2017       60098.65\n",
        " 8    October 27th, 2017    60760.46\n",
        " 9    January 29th, 2018    62084.17\n",
        "10    April 27th, 2018      58113.40\n",
        "11    July 27th, 2018       60098.65\n",
        "12    October 29th, 2018    62084.17\n",
        "13    January 28th, 2019    60098.65\n",
        "14    April 29th, 2019      60098.65\n",
        "15    July 29th, 2019       60098.65\n",
        "16    October 28th, 2019    60098.65\n",
        "17    January 27th, 2020    60098.65\n",
        "18    April 27th, 2020      60098.65\n",
        "19    July 27th, 2020       60098.65\n",
        "20    October 27th, 2020    60760.46\n",
        "21    January 27th, 2021    60760.46\n",
        "22    April 27th, 2021      59436.87\n",
        "23    July 27th, 2021       60098.65\n",
        "24    October 27th, 2021    60760.46\n",
        "25    January 27th, 2022    60760.46\n",
        "26    April 27th, 2022      59436.87\n",
        "27    July 27th, 2022       60098.65\n",
        "28    October 27th, 2022    60760.46\n",
        "29    January 27th, 2023    60760.46\n",
        "30    April 27th, 2023      59436.87\n",
        "31    July 27th, 2023       60098.65\n",
        "32    October 27th, 2023    60760.46\n",
        "33    January 29th, 2024    62084.17\n",
        "34    April 29th, 2024      60098.65\n",
        "35    July 29th, 2024       60098.65\n",
        "36    October 28th, 2024    60098.65\n",
        "37    January 27th, 2025    60098.65\n",
        "38    April 28th, 2025      60098.65\n",
        "39    July 28th, 2025       60098.65\n",
        "40    October 27th, 2025    60098.65\n"
       ]
      }
     ],
     "prompt_number": 7
    },
    {
     "cell_type": "markdown",
     "metadata": {},
     "source": [
      "Some other analytics such as the fair value, fair spread etc can be extracted as shown below."
     ]
    },
    {
     "cell_type": "code",
     "collapsed": false,
     "input": [
      "# <!-- collapse=True -->\n",
      "print \"%-20s: %20.3f\" % (\"Net Present Value\", ir_swap.NPV())\n",
      "print \"%-20s: %20.3f\" % (\"Fair Spread\", ir_swap.fairSpread())\n",
      "print \"%-20s: %20.3f\" % (\"Fair Rate\", ir_swap.fairRate())\n",
      "print \"%-20s: %20.3f\" % (\"Fixed Leg BPS\", ir_swap.fixedLegBPS())\n",
      "print \"%-20s: %20.3f\" % (\"Floating Leg BPS\", ir_swap.floatingLegBPS())"
     ],
     "language": "python",
     "metadata": {},
     "outputs": [
      {
       "output_type": "stream",
       "stream": "stdout",
       "text": [
        "Net Present Value   :          -115054.034\n",
        "Fair Spread         :                0.005\n",
        "Fair Rate           :                0.024\n",
        "Fixed Leg BPS       :            -9629.981\n",
        "Floating Leg BPS    :             9642.042\n"
       ]
      }
     ],
     "prompt_number": 8
    },
    {
     "cell_type": "markdown",
     "metadata": {},
     "source": [
      "## Conclusion\n",
      "\n",
      "Here we saw a simple example on how to construct a swap and value them. We evaluated the fixed and floating legs and then valued the `VanillaSwap` using the `DiscountingSwapEngine`."
     ]
    }
   ],
   "metadata": {}
  }
 ]
}
