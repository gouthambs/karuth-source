{
 "metadata": {
  "name": "",
  "signature": "sha256:7cf8123d416a58b8b76e3d283a4f2fb85db5059413458bbc74bdee4025e1d7aa"
 },
 "nbformat": 3,
 "nbformat_minor": 0,
 "worksheets": [
  {
   "cells": [
    {
     "cell_type": "markdown",
     "metadata": {},
     "source": [
      "#Valuing European Option Using the Heston Model in QuantLib\n",
      "[Gouthaman Balaraman](http://gouthamanbalaraman.com)"
     ]
    },
    {
     "cell_type": "markdown",
     "metadata": {},
     "source": [
      "Heston model can be used to value options by modeling the underlying asset such as the stock of a company. The one major feature of the Heston model is that it inocrporates a stochastic volatility term.\n",
      "\n",
      "\n",
      "\\begin{eqnarray}\n",
      "dS_t &=& \\mu S_tdt + \\sqrt{V_t} S_t dW_t^1 \\\\\n",
      "dV_t &=& \\kappa(\\theta-V_t) + \\sigma \\sqrt{V_t} dW_t^2\n",
      "\\end{eqnarray}\n",
      "\n",
      "Here :\n",
      "\n",
      "- $S_t$ is the asset's value at time $t$\n",
      "- $\\mu$ is the expected growth rate of the log normal stock value\n",
      "- $V_t$ is the variance of the asset $S_t$\n",
      "- $W_t^1$ is the stochastic process governing the $S_t$ process\n",
      "- $\\theta$ is the value of mean reversion for the variance $V_t$\n",
      "- $\\kappa$ is the strengh of mean reversion\n",
      "- $\\sigma$ is the volatility of volatility\n",
      "- $W_t^2$ is the stochastic process governing the $V_t$ process\n",
      "- The correlation between $W_t^1$ and $W_t^2$ is $\\rho$\n",
      "\n",
      "In contrast, the Black-Scholes-Merton process assumes that the volatility is constant."
     ]
    },
    {
     "cell_type": "code",
     "collapsed": false,
     "input": [
      "# <!-- collapse=True -->\n",
      "import QuantLib as ql\n",
      "import matplotlib.pyplot as plt\n",
      "import numpy as np\n",
      "from scipy.integrate import simps, cumtrapz, romb\n",
      "% matplotlib inline\n",
      "import math"
     ],
     "language": "python",
     "metadata": {},
     "outputs": [],
     "prompt_number": 1
    },
    {
     "cell_type": "markdown",
     "metadata": {},
     "source": [
      "Let us consider a European call option for AAPL with a strike price of \\$130 maturing on 15th Jan, 2016. Let the spot price be \\$127.62. The volatility of the underlying stock is know to be 20%, and has a dividend yield of 1.63%. We assume a short term risk free rate of 0.1%. Lets value this option as of 8th May, 2015. "
     ]
    },
    {
     "cell_type": "code",
     "collapsed": false,
     "input": [
      "# <!-- collapse=True -->\n",
      "# option parameters\n",
      "strike_price = 110.0\n",
      "payoff = ql.PlainVanillaPayoff(ql.Option.Call, strike_price)\n",
      "\n",
      "# option data\n",
      "maturity_date = ql.Date(15, 1, 2016)\n",
      "spot_price = 127.62\n",
      "strike_price = 130\n",
      "volatility = 0.20 # the historical vols for a year\n",
      "dividend_rate =  0.0163\n",
      "option_type = ql.Option.Call\n",
      "\n",
      "risk_free_rate = 0.001\n",
      "day_count = ql.Actual365Fixed()\n",
      "calendar = ql.UnitedStates()\n",
      "\n",
      "calculation_date = ql.Date(8, 5, 2015)\n",
      "ql.Settings.instance().evaluationDate = calculation_date"
     ],
     "language": "python",
     "metadata": {},
     "outputs": [],
     "prompt_number": 2
    },
    {
     "cell_type": "markdown",
     "metadata": {},
     "source": [
      "Using the above inputs, we construct the European option as shown below."
     ]
    },
    {
     "cell_type": "code",
     "collapsed": false,
     "input": [
      "# construct the European Option\n",
      "payoff = ql.PlainVanillaPayoff(option_type, strike_price)\n",
      "exercise = ql.EuropeanExercise(maturity_date)\n",
      "european_option = ql.VanillaOption(payoff, exercise)"
     ],
     "language": "python",
     "metadata": {},
     "outputs": [],
     "prompt_number": 3
    },
    {
     "cell_type": "markdown",
     "metadata": {},
     "source": [
      "In order to price the option using the Heston model, we first create the Heston process. In order to create the Heston process, we use the parameter values: mean reversion strength `kappa = 0.1`, the spot variance `v0 = volatility*volatility = 0.04`, the mean reversion variance `theta=v0`, volatility of volatility `sigma = 0.1` and the correlation between the asset price and its variance is `rho = -0.75`."
     ]
    },
    {
     "cell_type": "code",
     "collapsed": false,
     "input": [
      "# <!-- collapse=True -->\n",
      "# construct the Heston process\n",
      "\n",
      "v0 = volatility*volatility  # spot variance\n",
      "kappa = 0.1\n",
      "theta = v0\n",
      "sigma = 0.1\n",
      "rho = -0.75\n",
      "\n",
      "spot_handle = ql.QuoteHandle(\n",
      "    ql.SimpleQuote(spot_price)\n",
      ")\n",
      "flat_ts = ql.YieldTermStructureHandle(\n",
      "    ql.FlatForward(calculation_date, risk_free_rate, day_count)\n",
      ")\n",
      "dividend_yield = ql.YieldTermStructureHandle(\n",
      "    ql.FlatForward(calculation_date, dividend_rate, day_count)\n",
      ")\n",
      "heston_process = ql.HestonProcess(flat_ts,\n",
      "                                  dividend_yield,\n",
      "                                  spot_handle,\n",
      "                                  v0,\n",
      "                                  kappa,\n",
      "                                  theta,\n",
      "                                  sigma,\n",
      "                                  rho)"
     ],
     "language": "python",
     "metadata": {},
     "outputs": [],
     "prompt_number": 4
    },
    {
     "cell_type": "markdown",
     "metadata": {},
     "source": [
      "On valuing the option using the Heston model, we get the net present value as:"
     ]
    },
    {
     "cell_type": "code",
     "collapsed": false,
     "input": [
      "engine = ql.AnalyticHestonEngine(ql.HestonModel(heston_process),0.01, 1000)\n",
      "european_option.setPricingEngine(engine)\n",
      "h_price = european_option.NPV()\n",
      "print \"The Heston model price is\",h_price"
     ],
     "language": "python",
     "metadata": {},
     "outputs": [
      {
       "output_type": "stream",
       "stream": "stdout",
       "text": [
        "The Heston model price is 6.5308651372\n"
       ]
      }
     ],
     "prompt_number": 5
    },
    {
     "cell_type": "markdown",
     "metadata": {},
     "source": [
      "Performing the same calculation using the Black-Scholes-Merton process, we get:"
     ]
    },
    {
     "cell_type": "code",
     "collapsed": false,
     "input": [
      "# <!-- collapse=True -->\n",
      "flat_vol_ts = ql.BlackVolTermStructureHandle(\n",
      "    ql.BlackConstantVol(calculation_date, calendar, volatility, day_count)\n",
      ")\n",
      "bsm_process = ql.BlackScholesMertonProcess(spot_handle, \n",
      "                                           dividend_yield, \n",
      "                                           flat_ts, \n",
      "                                           flat_vol_ts)\n",
      "european_option.setPricingEngine(ql.AnalyticEuropeanEngine(bsm_process))\n",
      "bs_price = european_option.NPV()\n",
      "print \"The Black-Scholes-Merton model price is \", bs_price"
     ],
     "language": "python",
     "metadata": {},
     "outputs": [
      {
       "output_type": "stream",
       "stream": "stdout",
       "text": [
        "The Black-Scholes-Merton model price is  6.74927181246\n"
       ]
      }
     ],
     "prompt_number": 6
    },
    {
     "cell_type": "markdown",
     "metadata": {},
     "source": [
      "The difference in the price between the two models is: `bs_price - h_price = 0.21840667525992163`. This difference is due to the stochastic modeling of the volatility as a CIR-process."
     ]
    }
   ],
   "metadata": {}
  }
 ]
}