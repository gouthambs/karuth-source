{
 "metadata": {
  "name": "",
  "signature": "sha256:403492f2e843fe56d64c5dcf85b54674bfc9d849a32c1cdbabbff5d7409f97aa"
 },
 "nbformat": 3,
 "nbformat_minor": 0,
 "worksheets": [
  {
   "cells": [
    {
     "cell_type": "markdown",
     "metadata": {},
     "source": [
      "# Valuing Callable Bonds in QuantLib Python\n",
      "[Goutham Balaraman](http://gouthamanbalaraman.com)"
     ]
    },
    {
     "cell_type": "markdown",
     "metadata": {},
     "source": [
      "In this post, I will walk you through on how to value callable bonds in QuantLib Python. The approach to construct a callable bond is lot similar to [creating a fixed rate bond in QuantLib](http://gouthamanbalaraman.com/blog/quantlib-bond-modeling.html). The one additional input that we need to provide here is the details on the callable schedule. If you follow the fixed rate bond example already, this should be fairly straight forward.\n",
      "\n",
      "As always, we will start with some initializations and imports."
     ]
    },
    {
     "cell_type": "code",
     "collapsed": false,
     "input": [
      "import QuantLib as ql\n",
      "import numpy as np\n",
      "import matplotlib.pyplot as plt\n",
      "%matplotlib inline\n",
      "calc_date = ql.Date(16,8,2016)\n",
      "ql.Settings.instance().evaluationDate = calc_date"
     ],
     "language": "python",
     "metadata": {},
     "outputs": [],
     "prompt_number": 1
    },
    {
     "cell_type": "markdown",
     "metadata": {},
     "source": [
      "For simplicity, I am going to assume that the interest rate term structure is a flat yield curve at 3.5%."
     ]
    },
    {
     "cell_type": "code",
     "collapsed": false,
     "input": [
      "day_count = ql.ActualActual(ql.ActualActual.Bond)\n",
      "rate = 0.035\n",
      "ts = ql.FlatForward(calc_date, \n",
      "                    rate, \n",
      "                    day_count, \n",
      "                    ql.Compounded, \n",
      "                    ql.Semiannual)\n",
      "ts_handle = ql.YieldTermStructureHandle(ts)"
     ],
     "language": "python",
     "metadata": {},
     "outputs": [],
     "prompt_number": 2
    },
    {
     "cell_type": "markdown",
     "metadata": {},
     "source": [
      "The call and put schedules for the callable bond is created as shown below. I create a container for holding all the call and put dates using the `CallabilitySchedule` class. You can add each call using `Callability` class and noting as `Callability.Call` or `Callability.Put` for either a call or put."
     ]
    },
    {
     "cell_type": "code",
     "collapsed": false,
     "input": [
      "callability_schedule = ql.CallabilitySchedule()\n",
      "call_price = 100.0\n",
      "call_date = ql.Date(15,ql.September,2016);\n",
      "null_calendar = ql.NullCalendar();\n",
      "for i in range(0,24):\n",
      "    callability_price  = ql.CallabilityPrice(\n",
      "        call_price, ql.CallabilityPrice.Clean)\n",
      "    callability_schedule.append(\n",
      "            ql.Callability(callability_price, \n",
      "                           ql.Callability.Call,\n",
      "                           call_date))\n",
      "\n",
      "    call_date = null_calendar.advance(call_date, 3, ql.Months);"
     ],
     "language": "python",
     "metadata": {},
     "outputs": [],
     "prompt_number": 3
    },
    {
     "cell_type": "markdown",
     "metadata": {},
     "source": [
      "What follows next is very similar to the `Schedule` that we created in the vanilla fixed rate bond valuation."
     ]
    },
    {
     "cell_type": "code",
     "collapsed": false,
     "input": [
      "issue_date = ql.Date(16,ql.September,2014)        \n",
      "maturity_date = ql.Date(15,ql.September,2022)\n",
      "calendar = ql.UnitedStates(ql.UnitedStates.GovernmentBond)\n",
      "tenor = ql.Period(ql.Quarterly)\n",
      "accrual_convention = ql.Unadjusted\n",
      "\n",
      "schedule = ql.Schedule(issue_date, maturity_date, tenor,\n",
      "                       calendar, accrual_convention, accrual_convention,\n",
      "                       ql.DateGeneration.Backward, False)"
     ],
     "language": "python",
     "metadata": {},
     "outputs": [],
     "prompt_number": 4
    },
    {
     "cell_type": "markdown",
     "metadata": {},
     "source": [
      "The callable bond is instantiated using the `CallableFixedRateBond` class, which accepts the bond inputs and the call / put schedule."
     ]
    },
    {
     "cell_type": "code",
     "collapsed": false,
     "input": [
      "settlement_days = 3\n",
      "face_amount = 100\n",
      "accrual_daycount = ql.ActualActual(ql.ActualActual.Bond)\n",
      "coupon = 0.025\n",
      "\n",
      "\n",
      "bond = ql.CallableFixedRateBond(\n",
      "    settlement_days, face_amount,\n",
      "    schedule, [coupon], accrual_daycount,\n",
      "    ql.Following, face_amount, issue_date,\n",
      "    callability_schedule)"
     ],
     "language": "python",
     "metadata": {},
     "outputs": [],
     "prompt_number": 5
    },
    {
     "cell_type": "markdown",
     "metadata": {},
     "source": [
      "In order to value the bond, we need an interest rate model to model the fact that the bond will get called or not in the future depending on where the future interest rates are at. The `TreeCallableFixedRateBondEngine` can be used to value the callable bond. Below, the `value_bond` function prices the callable bond based on the Hull-White model parameter for mean reversion and volatility."
     ]
    },
    {
     "cell_type": "code",
     "collapsed": false,
     "input": [
      "def value_bond(a, s, grid_points, bond):\n",
      "    model = ql.HullWhite(ts_handle, a, s)\n",
      "    engine = ql.TreeCallableFixedRateBondEngine(model, grid_points)\n",
      "    bond.setPricingEngine(engine)\n",
      "    return bond"
     ],
     "language": "python",
     "metadata": {},
     "outputs": [],
     "prompt_number": 6
    },
    {
     "cell_type": "markdown",
     "metadata": {},
     "source": [
      "The callable bond value for a 3% mean reversion and 12% volatility is shown below."
     ]
    },
    {
     "cell_type": "code",
     "collapsed": false,
     "input": [
      "value_bond(0.03, 0.12, 40, bond)\n",
      "print \"Bond price: \",bond.cleanPrice()"
     ],
     "language": "python",
     "metadata": {},
     "outputs": [
      {
       "output_type": "stream",
       "stream": "stdout",
       "text": [
        "Bond price:  "
       ]
      },
      {
       "output_type": "stream",
       "stream": "stdout",
       "text": [
        "68.3769646975\n"
       ]
      }
     ],
     "prompt_number": 7
    },
    {
     "cell_type": "markdown",
     "metadata": {},
     "source": [
      "The price sensitivity of callable bonds to that of volatility parameter is shown below. As volatility increases, there is a higher chance of it being callable. Hence the value of the bond decreases."
     ]
    },
    {
     "cell_type": "code",
     "collapsed": true,
     "input": [
      "sigmas = np.arange(0.001, 0.15, 0.001)\n",
      "prices = [value_bond(0.03, s, 40, bond).cleanPrice() \n",
      "          for s in sigmas]"
     ],
     "language": "python",
     "metadata": {},
     "outputs": [],
     "prompt_number": 8
    },
    {
     "cell_type": "code",
     "collapsed": false,
     "input": [
      "plt.plot(sigmas, prices)"
     ],
     "language": "python",
     "metadata": {},
     "outputs": [
      {
       "metadata": {},
       "output_type": "pyout",
       "prompt_number": 9,
       "text": [
        "[<matplotlib.lines.Line2D at 0x7fa0abbdbd90>]"
       ]
      },
      {
       "metadata": {},
       "output_type": "display_data",
       "png": "[encoded data removed]",
       "text": [
        "<matplotlib.figure.Figure at 0x7fa0d81716d0>"
       ]
      }
     ],
     "prompt_number": 9
    },
    {
     "cell_type": "markdown",
     "metadata": {},
     "source": [
      "The static cashflows can be accessed using the `cashflows` accessor."
     ]
    },
    {
     "cell_type": "code",
     "collapsed": false,
     "input": [
      "for c in bond.cashflows():\n",
      "    print c.date(), \"     \", c.amount()"
     ],
     "language": "python",
     "metadata": {},
     "outputs": [
      {
       "output_type": "stream",
       "stream": "stdout",
       "text": [
        "December 15th, 2,014       0.618131868132\n",
        "March 16th, 2,015       0.625\n",
        "June 15th, 2,015       0.625\n",
        "September 15th, 2,015       0.625\n",
        "December 15th, 2,015       0.625\n",
        "March 15th, 2,016       0.625\n",
        "June 15th, 2,016       0.625\n",
        "September 15th, 2,016       0.625\n",
        "December 15th, 2,016       0.625\n",
        "March 15th, 2,017       0.625\n",
        "June 15th, 2,017       0.625\n",
        "September 15th, 2,017       0.625\n",
        "December 15th, 2,017       0.625\n",
        "March 15th, 2,018       0.625\n",
        "June 15th, 2,018       0.625\n",
        "September 17th, 2,018       0.625\n",
        "December 17th, 2,018       0.625\n",
        "March 15th, 2,019       0.625\n",
        "June 17th, 2,019       0.625\n",
        "September 16th, 2,019       0.625\n",
        "December 16th, 2,019       0.625\n",
        "March 16th, 2,020       0.625\n",
        "June 15th, 2,020       0.625\n",
        "September 15th, 2,020       0.625\n",
        "December 15th, 2,020       0.625\n",
        "March 15th, 2,021       0.625\n",
        "June 15th, 2,021       0.625\n",
        "September 15th, 2,021       0.625\n",
        "December 15th, 2,021       0.625\n",
        "March 15th, 2,022       0.625\n",
        "June 15th, 2,022       0.625\n",
        "September 15th, 2,022       0.625\n",
        "September 15th, 2,022       100.0\n"
       ]
      }
     ],
     "prompt_number": 10
    },
    {
     "cell_type": "markdown",
     "metadata": {},
     "source": [
      "#### Conclusion\n",
      "\n",
      "Here we explored a minimal example on pricing a callable bond."
     ]
    }
   ],
   "metadata": {}
  }
 ]
}