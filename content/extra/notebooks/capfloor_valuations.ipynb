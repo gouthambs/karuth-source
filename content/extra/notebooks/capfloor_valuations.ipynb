{
 "metadata": {
  "name": "",
  "signature": "sha256:43865f2804b487075406824a9c79c62ee7e26e09b1d5d2c590f068e25ed48cdd"
 },
 "nbformat": 3,
 "nbformat_minor": 0,
 "worksheets": [
  {
   "cells": [
    {
     "cell_type": "markdown",
     "metadata": {},
     "source": [
      "# Valuing Caps and Floors Using QuantLib\n",
      "[Goutham Balaraman](http:\\\\gouthamanbalaraman.com)"
     ]
    },
    {
     "cell_type": "markdown",
     "metadata": {},
     "source": [
      "In this post, I will walk you through a simple example of valuing caps. I want to talk about two specific cases: \n",
      "\n",
      "1. Value caps given a constant volatility\n",
      "2. Value caps given a cap volatility surface\n",
      "\n",
      "Caps, as you might know, can be valued as a sum of caplets. The value of each caplet is determined by the Black formula. In practice, each caplet would have a different volatility. Meaning, a caplet that is in the near term can have a different volotility profile compared to the caplet that is far away in tenor. Similarly caplet volatilities differ with the strike as well."
     ]
    },
    {
     "cell_type": "code",
     "collapsed": false,
     "input": [
      "import QuantLib as ql"
     ],
     "language": "python",
     "metadata": {},
     "outputs": [],
     "prompt_number": 1
    },
    {
     "cell_type": "code",
     "collapsed": false,
     "input": [
      "calc_date = ql.Date(14, 6, 2016)\n",
      "ql.Settings.instance().evaluationDate = calc_date"
     ],
     "language": "python",
     "metadata": {},
     "outputs": [],
     "prompt_number": 2
    },
    {
     "cell_type": "markdown",
     "metadata": {},
     "source": [
      "## Constant Volatility"
     ]
    },
    {
     "cell_type": "markdown",
     "metadata": {},
     "source": [
      "Let us start by constructing different componets required in valuing the caps. The components that we would need are:\n",
      "\n",
      "1. interest rate term structure for discounting \n",
      "2. interest rate term structure for the floating leg\n",
      "3. construction of the cap\n",
      "4. the pricing engine to value caps using the Black formula\n",
      "\n",
      "For simplicity, we will construct only one interest rate term structure here, and assume that the discounting and the floating leg is referenced by the same. Below the term structure of interest rates is constructed from a set of zero rates."
     ]
    },
    {
     "cell_type": "code",
     "collapsed": false,
     "input": [
      "dates = [ql.Date(14,6,2016), ql.Date(14,9,2016), \n",
      "         ql.Date(14,12,2016), ql.Date(14,6,2017),\n",
      "         ql.Date(14,6,2019), ql.Date(14,6,2021),\n",
      "         ql.Date(15,6,2026), ql.Date(16,6,2031),\n",
      "         ql.Date(16,6,2036), ql.Date(14,6,2046)\n",
      "         ]\n",
      "yields = [0.000000, 0.006616, 0.007049, 0.007795,\n",
      "          0.009599, 0.011203, 0.015068, 0.017583,\n",
      "          0.018998, 0.020080]\n",
      "day_count = ql.ActualActual()\n",
      "calendar = ql.UnitedStates()\n",
      "interpolation = ql.Linear()\n",
      "compounding = ql.Compounded\n",
      "compounding_frequency = ql.Annual\n",
      "\n",
      "term_structure = ql.ZeroCurve(dates, yields, day_count, calendar, \n",
      "                       interpolation, compounding, compounding_frequency)\n",
      "ts_handle = ql.YieldTermStructureHandle(term_structure)"
     ],
     "language": "python",
     "metadata": {},
     "outputs": [],
     "prompt_number": 3
    },
    {
     "cell_type": "markdown",
     "metadata": {},
     "source": [
      "As a next step, lets construct the cap itself. In order to do that, we start by constructing the `Schedule` object to project the cashflow dates. "
     ]
    },
    {
     "cell_type": "code",
     "collapsed": false,
     "input": [
      "start_date = ql.Date(14, 6, 2016)\n",
      "end_date = ql.Date(14, 6 , 2026)\n",
      "period = ql.Period(3, ql.Months)\n",
      "calendar = ql.UnitedStates()\n",
      "buss_convention = ql.ModifiedFollowing\n",
      "rule = ql.DateGeneration.Forward\n",
      "end_of_month = False\n",
      "\n",
      "schedule = ql.Schedule(start_date, end_date, period,\n",
      "                       calendar, buss_convention, buss_convention, \n",
      "                       rule, end_of_month)"
     ],
     "language": "python",
     "metadata": {},
     "outputs": [],
     "prompt_number": 4
    },
    {
     "cell_type": "markdown",
     "metadata": {},
     "source": [
      "Now that we have the schedule, we construct the `USDLibor` index. Below, you can see that I use `addFixing` method to provide a fixing date for June 10, 2016. According the schedule constructed, the start date of the cap is June 14, 2016, and there is a 2 bussiness day settlement lag (meaning June 10 reference date) embedded in the `USDLibor` definition. So in order to set the rate for the accrual period, the rate is obtained from the fixing data provided. For all future dates, the libor rates are automatically inferred using the forward rates provided by the given interest rate term structure."
     ]
    },
    {
     "cell_type": "code",
     "collapsed": false,
     "input": [
      "ibor_index = ql.USDLibor(ql.Period(3, ql.Months), ts_handle)\n",
      "ibor_index.addFixing(ql.Date(10,6,2016), 0.0065560)\n",
      "\n",
      "ibor_leg = ql.IborLeg([1000000], schedule, ibor_index)"
     ],
     "language": "python",
     "metadata": {},
     "outputs": [],
     "prompt_number": 5
    },
    {
     "cell_type": "markdown",
     "metadata": {},
     "source": [
      "Now that we have all the required pieces, the `Cap` can be constructed by passing the `ibor_leg` and the `strike` information. Constructing a floot is done through the `Floor` class. The `BlackCapFloorEngine` can be used to price the cap with constant volatility as shown below. "
     ]
    },
    {
     "cell_type": "code",
     "collapsed": false,
     "input": [
      "strike = 0.02\n",
      "cap = ql.Cap(ibor_leg, [strike])\n",
      "\n",
      "vols = ql.QuoteHandle(ql.SimpleQuote(0.547295))\n",
      "engine = ql.BlackCapFloorEngine(ts_handle, vols)\n",
      "\n",
      "cap.setPricingEngine(engine)\n",
      "print cap.NPV()"
     ],
     "language": "python",
     "metadata": {},
     "outputs": [
      {
       "output_type": "stream",
       "stream": "stdout",
       "text": [
        "54369.8580629\n"
       ]
      }
     ],
     "prompt_number": 6
    },
    {
     "cell_type": "markdown",
     "metadata": {},
     "source": [
      "## Using Volatility Surfaces"
     ]
    },
    {
     "cell_type": "markdown",
     "metadata": {},
     "source": [
      "In the above exercise, we used a constant volatility value. In practice, one needs to strip the market quoted capfloor volatilities to infer the volatility of each and every caplet. `QuantLib` provides excellent tools in order to do that. Let us assume the following dummy data represents the volatility surface quoted by the market. I have the various `strikes`, `expiries`, and the volatility quotes in percentage format. I take the raw data and create a `Matrix` in order to construct the volatility surface."
     ]
    },
    {
     "cell_type": "code",
     "collapsed": false,
     "input": [
      "strikes = [0.01,0.015, 0.02]\n",
      "expiries = [ql.Period(i, ql.Years) for i in range(1,11)] + [ql.Period(12, ql.Years)]\n",
      "vols = ql.Matrix(len(expiries), len(strikes))\n",
      "data = [[47.27, 55.47, 64.07, 70.14, 72.13, 69.41, 72.15, 67.28, 66.08, 68.64, 65.83],\n",
      "   [46.65,54.15,61.47,65.53,66.28,62.83,64.42,60.05,58.71,60.35,55.91],\n",
      "   [46.6,52.65,59.32,62.05,62.0,58.09,59.03,55.0,53.59,54.74,49.54]\n",
      "   ]\n",
      "\n",
      "for i in range(vols.rows()):\n",
      "    for j in range(vols.columns()):\n",
      "        vols[i][j] = data[j][i]/100.0"
     ],
     "language": "python",
     "metadata": {},
     "outputs": [],
     "prompt_number": 7
    },
    {
     "cell_type": "markdown",
     "metadata": {},
     "source": [
      "The `CapFloorTermVolSurface` offers a way to store the capfloor volatilities. These are however `CapFloor` volatilities, and not the volatilities of the individual options."
     ]
    },
    {
     "cell_type": "code",
     "collapsed": false,
     "input": [
      "calendar = ql.UnitedStates()\n",
      "bdc = ql.ModifiedFollowing\n",
      "daycount = ql.Actual365Fixed()\n",
      "settlement_days = 2\n",
      "capfloor_vol = ql.CapFloorTermVolSurface(settlement_days, calendar, bdc, expiries, strikes, vols, daycount)"
     ],
     "language": "python",
     "metadata": {},
     "outputs": [],
     "prompt_number": 8
    },
    {
     "cell_type": "markdown",
     "metadata": {},
     "source": [
      "The `OptionletStripper1` class lets you to strip the individual caplet/floorlet volatilities from the capfloor volatilities. We have to 'jump' some hoops here to make it useful for pricing. The `OptionletStripper1` class does not allow you to be consumed directly by a pricing engine. The `StrippedOptionletAdapter` takes the stripped optionlet volatilities, and creates a term structure of optionlet volatilities. We then wrap that into a handle using `OptionletVolatilityStructureHandle`."
     ]
    },
    {
     "cell_type": "code",
     "collapsed": false,
     "input": [
      "optionlet_surf = ql.OptionletStripper1(capfloor_vol, ibor_index)\n",
      "ovs_handle = ql.OptionletVolatilityStructureHandle(\n",
      "    ql.StrippedOptionletAdapter(optionlet_surf)\n",
      ")"
     ],
     "language": "python",
     "metadata": {},
     "outputs": [],
     "prompt_number": 9
    },
    {
     "cell_type": "markdown",
     "metadata": {},
     "source": [
      "Below, we visulaize the capfloor volatility surface, and the optionlet volatility suface for a fixed strike."
     ]
    },
    {
     "cell_type": "code",
     "collapsed": false,
     "input": [
      "import matplotlib.pyplot as plt\n",
      "import numpy as np\n",
      "%matplotlib inline"
     ],
     "language": "python",
     "metadata": {},
     "outputs": [],
     "prompt_number": 10
    },
    {
     "cell_type": "code",
     "collapsed": false,
     "input": [
      "tenors = np.arange(0,10,0.25)\n",
      "strike = 0.015\n",
      "capfloor_vols = [capfloor_vol.volatility(t, strike) for t in tenors]\n",
      "opionlet_vols = [ovs_handle.volatility(t, strike) for t in tenors]\n",
      "\n",
      "plt.plot(tenors, capfloor_vols, \"--\", label=\"CapFloor Vols\")\n",
      "plt.plot(tenors, opionlet_vols,\"-\", label=\"Optionlet Vols\")\n",
      "plt.legend(bbox_to_anchor=(0.5, 0.25))"
     ],
     "language": "python",
     "metadata": {},
     "outputs": [
      {
       "metadata": {},
       "output_type": "pyout",
       "prompt_number": 11,
       "text": [
        "<matplotlib.legend.Legend at 0x894efd0>"
       ]
      },
      {
       "metadata": {},
       "output_type": "display_data",
       "png": "[encoded data removed]",
       "text": [
        "<matplotlib.figure.Figure at 0x64d0570>"
       ]
      }
     ],
     "prompt_number": 11
    },
    {
     "cell_type": "markdown",
     "metadata": {},
     "source": [
      "The `BlackCapFloorEngine` can accept the optionlet volatility surface in order to price the caps or floors."
     ]
    },
    {
     "cell_type": "code",
     "collapsed": false,
     "input": [
      "engine2 = ql.BlackCapFloorEngine(ts_handle, ovs_handle)\n",
      "cap.setPricingEngine(engine2)\n",
      "print cap.NPV()"
     ],
     "language": "python",
     "metadata": {},
     "outputs": [
      {
       "output_type": "stream",
       "stream": "stdout",
       "text": [
        "54384.928315\n"
       ]
      }
     ],
     "prompt_number": 12
    },
    {
     "cell_type": "markdown",
     "metadata": {},
     "source": [
      "The `QuantLib` C++ class allow for one to view the projected cashflows in terms of individual caplets. I just realized that the python extension does not have this feature added to it. Will give a PR one of these days and update this post. \n",
      "\n",
      "Hope you find this useful."
     ]
    }
   ],
   "metadata": {}
  }
 ]
}