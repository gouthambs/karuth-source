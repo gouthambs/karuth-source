{
 "metadata": {
  "name": "",
  "signature": "sha256:91465aade8a2756c96b182c8c6834c1182cca6073acae3948043175e5f506cd2"
 },
 "nbformat": 3,
 "nbformat_minor": 0,
 "worksheets": [
  {
   "cells": [
    {
     "cell_type": "markdown",
     "metadata": {},
     "source": [
      "# [Bootstrapping Treasury Yield Curve Using QuantLib](http://gouthamanbalaraman.com/blog/quantlib-term-structure-bootstrap-yield-curve.html)\n",
      "[Gouthaman Balaraman](http://gouthamanbalaraman.com)"
     ]
    },
    {
     "cell_type": "code",
     "collapsed": false,
     "input": [
      "import QuantLib as ql\n",
      "\n",
      "def print_curve(xlist, ylist, precision=3):\n",
      "    \"\"\"\n",
      "    Method to print curve in a nice format\n",
      "    \"\"\"\n",
      "    print \"----------------------\"\n",
      "    print \"Maturities\\tCurve\"\n",
      "    print \"----------------------\"\n",
      "    for x,y in zip(xlist, ylist):\n",
      "        print x,\"\\t\\t\", round(y, precision)\n",
      "    print \"----------------------\""
     ],
     "language": "python",
     "metadata": {},
     "outputs": [],
     "prompt_number": 1
    },
    {
     "cell_type": "markdown",
     "metadata": {},
     "source": [
      "This is an example based on Exhibit 5-5 given in Frank Fabozzi's Bond Markets, Analysis and Strategies, Sixth Edition. "
     ]
    },
    {
     "cell_type": "code",
     "collapsed": false,
     "input": [
      "# Deposit rates\n",
      "depo_maturities = [ql.Period(6,ql.Months), ql.Period(12, ql.Months)]\n",
      "depo_rates = [5.25, 5.5]\n",
      "\n",
      "# Bond rates\n",
      "bond_maturities = [ql.Period(6*i, ql.Months) for i in range(3,21)]\n",
      "bond_rates = [5.75, 6.0, 6.25, 6.5, 6.75, 6.80, 7.00, 7.1, 7.15, \n",
      "              7.2, 7.3, 7.35, 7.4, 7.5, 7.6, 7.6, 7.7, 7.8]\n",
      "\n",
      "print_curve(depo_maturities+bond_maturities, depo_rates+bond_rates)"
     ],
     "language": "python",
     "metadata": {},
     "outputs": [
      {
       "output_type": "stream",
       "stream": "stdout",
       "text": [
        "----------------------\n",
        "Maturities\tCurve\n",
        "----------------------\n",
        "6M \t\t5.25\n",
        "1Y \t\t5.5\n",
        "1Y6M \t\t5.75\n",
        "2Y \t\t6.0\n",
        "2Y6M \t\t6.25\n",
        "3Y \t\t6.5\n",
        "3Y6M \t\t6.75\n",
        "4Y \t\t6.8\n",
        "4Y6M \t\t7.0\n",
        "5Y \t\t7.1\n",
        "5Y6M \t\t7.15\n",
        "6Y \t\t7.2\n",
        "6Y6M \t\t7.3\n",
        "7Y \t\t7.35\n",
        "7Y6M \t\t7.4\n",
        "8Y \t\t7.5\n",
        "8Y6M \t\t7.6\n",
        "9Y \t\t7.6\n",
        "9Y6M \t\t7.7\n",
        "10Y \t\t7.8\n",
        "----------------------\n"
       ]
      }
     ],
     "prompt_number": 2
    },
    {
     "cell_type": "code",
     "collapsed": false,
     "input": [
      "# some constants and conventions\n",
      "# here we just assume for the sake of example\n",
      "# that some of the constants are the same for \n",
      "# depo rates and bond rates\n",
      "\n",
      "calc_date = ql.Date(15, 1, 2015)\n",
      "ql.Settings.instance().evaluationDate = calc_date\n",
      "\n",
      "calendar = ql.UnitedStates()\n",
      "bussiness_convention = ql.Unadjusted \n",
      "day_count = ql.Thirty360()\n",
      "end_of_month = True\n",
      "settlement_days = 0\n",
      "face_amount = 100\n",
      "coupon_frequency = ql.Period(ql.Semiannual)\n",
      "settlement_days = 0"
     ],
     "language": "python",
     "metadata": {},
     "outputs": [],
     "prompt_number": 3
    },
    {
     "cell_type": "markdown",
     "metadata": {},
     "source": [
      "The basic idea of bootstrapping is to use the deposit rates and bond rates to create individual helpers. Then use the combination of the two helpers to construct the yield curve."
     ]
    },
    {
     "cell_type": "code",
     "collapsed": false,
     "input": [
      "# create deposit rate helpers from depo_rates\n",
      "depo_helpers = [ql.DepositRateHelper(ql.QuoteHandle(ql.SimpleQuote(r/100.0)), \n",
      "                                     m, \n",
      "                                     settlement_days, \n",
      "                                     calendar, \n",
      "                                     bussiness_convention, \n",
      "                                     end_of_month, \n",
      "                                     day_count ) \n",
      "                for r, m in zip(depo_rates, depo_maturities)]"
     ],
     "language": "python",
     "metadata": {},
     "outputs": [],
     "prompt_number": 4
    },
    {
     "cell_type": "markdown",
     "metadata": {},
     "source": [
      "The rest of the points are coupon bonds. We assume that the YTM given for the bonds are all par rates. So we have bonds with coupon rate same as the YTM."
     ]
    },
    {
     "cell_type": "code",
     "collapsed": false,
     "input": [
      "# create fixed rate bond helpers from fixed rate bonds\n",
      "bond_helpers = []\n",
      "for r, m in zip(bond_rates, bond_maturities):\n",
      "    termination_date = calc_date + m\n",
      "    schedule = ql.Schedule(calc_date,\n",
      "                   termination_date, \n",
      "                   coupon_frequency, \n",
      "                   calendar,\n",
      "                   bussiness_convention, \n",
      "                   bussiness_convention, \n",
      "                   ql.DateGeneration.Backward, \n",
      "                   end_of_month)\n",
      "    \n",
      "    bond_helper = ql.FixedRateBondHelper(ql.QuoteHandle(ql.SimpleQuote(face_amount)),\n",
      "                                        settlement_days,\n",
      "                                        face_amount,\n",
      "                                        schedule,\n",
      "                                        [r/100.0],\n",
      "                                        day_count,\n",
      "                                        bussiness_convention,\n",
      "                                        )\n",
      "    bond_helpers.append(bond_helper)"
     ],
     "language": "python",
     "metadata": {},
     "outputs": [],
     "prompt_number": 5
    },
    {
     "cell_type": "code",
     "collapsed": false,
     "input": [
      "# The yield curve is constructed here\n",
      "rate_helpers = depo_helpers + bond_helpers\n",
      "yieldcurve = ql.PiecewiseLogCubicDiscount(calc_date,\n",
      "                             rate_helpers,\n",
      "                             day_count)"
     ],
     "language": "python",
     "metadata": {},
     "outputs": [],
     "prompt_number": 6
    },
    {
     "cell_type": "code",
     "collapsed": false,
     "input": [
      "# get spot rates\n",
      "spots = []\n",
      "tenors = []\n",
      "for d in yieldcurve.dates():\n",
      "    yrs = day_count.yearFraction(calc_date, d)\n",
      "    compounding = ql.Compounded\n",
      "    freq = ql.Semiannual\n",
      "    zero_rate = yieldcurve.zeroRate(yrs, compounding, freq)\n",
      "    tenors.append(yrs)\n",
      "    eq_rate = zero_rate.equivalentRate(day_count, \n",
      "                                       compounding, \n",
      "                                       freq, \n",
      "                                       calc_date, \n",
      "                                       d).rate()\n",
      "    spots.append(100*eq_rate)"
     ],
     "language": "python",
     "metadata": {},
     "outputs": [],
     "prompt_number": 7
    },
    {
     "cell_type": "code",
     "collapsed": false,
     "input": [
      "print_curve(tenors, spots)"
     ],
     "language": "python",
     "metadata": {},
     "outputs": [
      {
       "output_type": "stream",
       "stream": "stdout",
       "text": [
        "----------------------\n",
        "Maturities\tCurve\n",
        "----------------------\n",
        "0.0 \t\t0.0\n",
        "0.5 \t\t5.25\n",
        "1.0 \t\t5.426\n",
        "1.5 \t\t5.761\n",
        "2.0 \t\t6.02\n",
        "2.5 \t\t6.283\n",
        "3.0 \t\t6.55\n",
        "3.5 \t\t6.822\n",
        "4.0 \t\t6.87\n",
        "4.5 \t\t7.095\n",
        "5.0 \t\t7.205\n",
        "5.5 \t\t7.257\n",
        "6.0 \t\t7.31\n",
        "6.5 \t\t7.429\n",
        "7.0 \t\t7.485\n",
        "7.5 \t\t7.543\n",
        "8.0 \t\t7.671\n",
        "8.5 \t\t7.802\n",
        "9.0 \t\t7.791\n",
        "9.5 \t\t7.929\n",
        "10.0 \t\t8.072\n",
        "----------------------\n"
       ]
      }
     ],
     "prompt_number": 8
    }
   ],
   "metadata": {}
  }
 ]
}