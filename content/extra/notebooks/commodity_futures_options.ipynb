{
 "metadata": {
  "name": "",
  "signature": "sha256:db0a1e1fab8f155c44bc078b7465078e4b53d01bb7b0cb6ff1d12e1261becfa5"
 },
 "nbformat": 3,
 "nbformat_minor": 0,
 "worksheets": [
  {
   "cells": [
    {
     "cell_type": "markdown",
     "metadata": {},
     "source": [
      "# Valuing Options on Commodity Futures Using The Black Formula\n",
      "[Goutham Balaraman](http://gouthamanbalaraman.com)"
     ]
    },
    {
     "cell_type": "markdown",
     "metadata": {},
     "source": [
      "The Black-Scholes equation is the well known model to price equity European options. In the case of equities, the spot price fluctuates and hence the intuition to model as a stochastic process makes sense. In the case of commodities, however, the spot price does not fluctuate as much, and hence cannot be modeled as a stochastic process to value options on commodities. In the 1976 paper [1], Fischer Black addressed this problem by modeling the futures price, which demonstrates fluctuations, as the lognormal stochastic process.\n",
      "\n",
      "The futures price at time $t$, $F_t$ with a is modeled as:\n",
      "\n",
      "\\begin{eqnarray}\n",
      "dF_t &=& \\sigma_t F_t dW\n",
      "\\end{eqnarray}\n",
      "\n",
      "where $\\sigma_t$ is the volatility of the underlying, and $dW$ is the Weiner process.\n",
      "\n",
      "The value of an option at strike $K$, maturing at $T$, risk free rate $r$ with volatility $\\sigma$ of the underlying is given by the closed form expression:\n",
      "\n",
      "\\begin{eqnarray}\n",
      "c &=&  e^{-r T} [FN(d_1) - KN(d_2)] \\nonumber \\\\\n",
      "p &=& e^{-r T} [KN(-d_2) - FN(-d_1)]\n",
      "\\end{eqnarray}\n",
      "\n",
      "where\n",
      "\\begin{eqnarray}\n",
      "d_1 &=& \\frac{\\ln(F/K) + (\\sigma^2/2)T}{\\sigma\\sqrt{T}} \\nonumber\\\\\n",
      "d_2 &=& \\frac{\\ln(F/K) - (\\sigma^2/2)T}{\\sigma\\sqrt{T}} = d_1 - \\sigma\\sqrt{T}\n",
      "\\end{eqnarray}\n",
      "\n",
      "\n",
      "This formula can be easily used to price caps, swaptions, futures options contract. Here we will use `QuantLib` to price the options on commodity futures."
     ]
    },
    {
     "cell_type": "code",
     "collapsed": false,
     "input": [
      "import QuantLib as ql\n",
      "import math"
     ],
     "language": "python",
     "metadata": {},
     "outputs": [],
     "prompt_number": 1
    },
    {
     "cell_type": "code",
     "collapsed": false,
     "input": [
      "calendar = ql.UnitedStates()\n",
      "bussiness_convention = ql.ModifiedFollowing\n",
      "settlement_days = 0\n",
      "day_count = ql.ActualActual()"
     ],
     "language": "python",
     "metadata": {},
     "outputs": [],
     "prompt_number": 2
    },
    {
     "cell_type": "markdown",
     "metadata": {},
     "source": [
      "## Option on Treasury Futures Contract\n",
      "\n",
      "Options on treasury futures (10 Yr Note TYF6C 119) can be valued using the Black formula. Let us value a Call option maturing on December 24, 2015, with a strike of 119. The current futures price is  126.95, and the volatility is 11.567%. The risk free rate as of December 1, 2015 is 0.105%. Let us value this Call option as of December 1, 2015.\n"
     ]
    },
    {
     "cell_type": "code",
     "collapsed": false,
     "input": [
      "interest_rate = 0.00105\n",
      "calc_date = ql.Date(1,12,2015)\n",
      "yield_curve = ql.FlatForward(calc_date, \n",
      "                             interest_rate,\n",
      "                             day_count,\n",
      "                             ql.Compounded,\n",
      "                             ql.Continuous)"
     ],
     "language": "python",
     "metadata": {},
     "outputs": [],
     "prompt_number": 3
    },
    {
     "cell_type": "code",
     "collapsed": false,
     "input": [
      "\n",
      "ql.Settings.instance().evaluationDate = calc_date\n",
      "option_maturity_date = ql.Date(24,12,2015)\n",
      "strike = 119\n",
      "spot = 126.953# futures price\n",
      "volatility = 11.567/100.\n",
      "flavor = ql.Option.Call\n",
      "\n",
      "discount = yield_curve.discount(option_maturity_date)\n",
      "strikepayoff = ql.PlainVanillaPayoff(flavor, strike)\n",
      "T = yield_curve.dayCounter().yearFraction(calc_date, \n",
      "                                          option_maturity_date)\n",
      "stddev = volatility*math.sqrt(T)\n",
      "\n",
      "black = ql.BlackCalculator(strikepayoff, \n",
      "                           spot, \n",
      "                           stddev, \n",
      "                           discount)"
     ],
     "language": "python",
     "metadata": {},
     "outputs": [],
     "prompt_number": 4
    },
    {
     "cell_type": "code",
     "collapsed": false,
     "input": [
      "print \"%-20s: %4.4f\" %(\"Option Price\", black.value() )\n",
      "print \"%-20s: %4.4f\" %(\"Delta\", black.delta(spot) )\n",
      "print \"%-20s: %4.4f\" %(\"Gamma\", black.gamma(spot) )\n",
      "print \"%-20s: %4.4f\" %(\"Theta\", black.theta(spot, T) )\n",
      "print \"%-20s: %4.4f\" %(\"Vega\", black.vega(T) )\n",
      "print \"%-20s: %4.4f\" %(\"Rho\", black.rho( T) )"
     ],
     "language": "python",
     "metadata": {},
     "outputs": [
      {
       "output_type": "stream",
       "stream": "stdout",
       "text": [
        "Option Price        : 7.9686\n",
        "Delta               : 0.9875\n",
        "Gamma               : 0.0088\n",
        "Theta               : -0.9356\n",
        "Vega                : 1.0285\n",
        "Rho                 : 7.3974\n"
       ]
      }
     ],
     "prompt_number": 5
    },
    {
     "cell_type": "markdown",
     "metadata": {},
     "source": [
      "## Natural Gas Futures Option\n",
      "\n",
      "I saw [this](http://quantlib.10058.n7.nabble.com/Quantlib-methods-for-option-pricing-td17018.html) question on quantlib users group. Thought I will add this example as well. \n",
      "\n",
      "Call option with a 3.5 strike, spot 2.919, volatility 0.4251. The interest rate is 0.15%."
     ]
    },
    {
     "cell_type": "code",
     "collapsed": false,
     "input": [
      "interest_rate = 0.0015\n",
      "calc_date = ql.Date(23,9,2015)\n",
      "yield_curve = ql.FlatForward(calc_date, \n",
      "                             interest_rate,\n",
      "                             day_count,\n",
      "                             ql.Compounded,\n",
      "                             ql.Continuous)"
     ],
     "language": "python",
     "metadata": {},
     "outputs": [],
     "prompt_number": 6
    },
    {
     "cell_type": "code",
     "collapsed": false,
     "input": [
      "ql.Settings.instance().evaluationDate = calc_date\n",
      "T = 96.12/365.\n",
      "\n",
      "strike = 3.5\n",
      "spot = 2.919\n",
      "volatility = 0.4251\n",
      "flavor = ql.Option.Call\n",
      "\n",
      "discount = yield_curve.discount(T)\n",
      "strikepayoff = ql.PlainVanillaPayoff(flavor, strike)\n",
      "stddev = volatility*math.sqrt(T)\n",
      "\n",
      "strikepayoff = ql.PlainVanillaPayoff(flavor, strike)\n",
      "black = ql.BlackCalculator(strikepayoff, spot, stddev, discount)"
     ],
     "language": "python",
     "metadata": {},
     "outputs": [],
     "prompt_number": 7
    },
    {
     "cell_type": "code",
     "collapsed": false,
     "input": [
      "print \"%-20s: %4.4f\" %(\"Option Price\", black.value() )\n",
      "print \"%-20s: %4.4f\" %(\"Delta\", black.delta(spot) )\n",
      "print \"%-20s: %4.4f\" %(\"Gamma\", black.gamma(spot) )\n",
      "print \"%-20s: %4.4f\" %(\"Theta\", black.theta(spot, T) )\n",
      "print \"%-20s: %4.4f\" %(\"Vega\", black.vega(T) )\n",
      "print \"%-20s: %4.4f\" %(\"Rho\", black.rho( T) )"
     ],
     "language": "python",
     "metadata": {},
     "outputs": [
      {
       "output_type": "stream",
       "stream": "stdout",
       "text": [
        "Option Price        : 0.0789\n",
        "Delta               : 0.2347\n",
        "Gamma               : 0.4822\n",
        "Theta               : -0.3711\n",
        "Vega                : 0.4600\n",
        "Rho                 : 0.1597\n"
       ]
      }
     ],
     "prompt_number": 8
    },
    {
     "cell_type": "markdown",
     "metadata": {},
     "source": [
      "## Conclusion\n",
      "\n",
      "In this notebook, I demonstrated how Black formula can be used to value options on commodity futures. It is worth pointing out that different vendors usually have different scaling conventions when it comes to reporting greeks. One would needs to take that into account when comparing the values shown by QuantLib with that of other vendors\n",
      "\n",
      "## References\n",
      "[1] Fischer Black, *The pricing of commodity contracts*, Journal of Financial Economics, (3) 167-179 (1976) "
     ]
    }
   ],
   "metadata": {}
  }
 ]
}
