{
 "cells": [
  {
   "cell_type": "markdown",
   "metadata": {},
   "source": [
    "# Optimizing Python Code: Numba vs Cython\n",
    "[Goutham Balaraman](http://gouthamanbalaraman.com)"
   ]
  },
  {
   "cell_type": "markdown",
   "metadata": {},
   "source": [
    "I came across an old post by jakevdp on [Numba vs Cython](http://jakevdp.github.io/blog/2013/06/15/numba-vs-cython-take-2/). I thought I will revisit this topic because both Numba and Cython has matured significantly over this time period. In this post I am going to do two examples:\n",
    "1. Pairwise distance estimation example that Jake discusses. The intention is to see how the maturity of these projects has contributed to improvements.\n",
    "2. A simple cashflow payment calculation of an amortizing bond or mortgage payments. This a calculation that cannot be vectorized in a numpy sense. So the speedups would have to come from optimizing loops using tools like Numba or Cython."
   ]
  },
  {
   "cell_type": "code",
   "execution_count": 1,
   "metadata": {
    "collapsed": false
   },
   "outputs": [
    {
     "data": {
      "text/plain": [
       "('0.31.0', '0.24.1', '1.11.3')"
      ]
     },
     "execution_count": 1,
     "metadata": {},
     "output_type": "execute_result"
    }
   ],
   "source": [
    "import numpy as np\n",
    "import numba \n",
    "import cython\n",
    "%load_ext cython\n",
    "import pandas as pd\n",
    "\n",
    "numba.__version__, cython.__version__, np.__version__"
   ]
  },
  {
   "cell_type": "markdown",
   "metadata": {},
   "source": [
    "## Pairwise Distance Estimation"
   ]
  },
  {
   "cell_type": "code",
   "execution_count": 2,
   "metadata": {
    "collapsed": true
   },
   "outputs": [],
   "source": [
    "X = np.random.random((1000, 3))"
   ]
  },
  {
   "cell_type": "code",
   "execution_count": 3,
   "metadata": {
    "collapsed": false
   },
   "outputs": [
    {
     "name": "stdout",
     "output_type": "stream",
     "text": [
      "10 loops, best of 3: 2.47 s per loop\n"
     ]
    }
   ],
   "source": [
    "def pairwise_python(X):\n",
    "    M = X.shape[0]\n",
    "    N = X.shape[1]\n",
    "    D = np.empty((M, M), dtype=np.float)\n",
    "    for i in range(M):\n",
    "        for j in range(M):\n",
    "            d = 0.0\n",
    "            for k in range(N):\n",
    "                tmp = X[i, k] - X[j, k]\n",
    "                d += tmp * tmp\n",
    "            D[i, j] = np.sqrt(d)\n",
    "    return D\n",
    "\n",
    "%timeit -n10 pairwise_python(X)"
   ]
  },
  {
   "cell_type": "code",
   "execution_count": 4,
   "metadata": {
    "collapsed": false
   },
   "outputs": [
    {
     "name": "stdout",
     "output_type": "stream",
     "text": [
      "10 loops, best of 3: 38.3 ms per loop\n"
     ]
    }
   ],
   "source": [
    "def pairwise_numpy(X):\n",
    "    return np.sqrt(((X[:, None, :] - X) ** 2).sum(-1))\n",
    "\n",
    "%timeit -n10 pairwise_numpy(X)"
   ]
  },
  {
   "cell_type": "code",
   "execution_count": 5,
   "metadata": {
    "collapsed": false
   },
   "outputs": [
    {
     "name": "stdout",
     "output_type": "stream",
     "text": [
      "The slowest run took 13.98 times longer than the fastest. This could mean that an intermediate result is being cached.\n",
      "10 loops, best of 3: 4.04 ms per loop\n"
     ]
    }
   ],
   "source": [
    "pairwise_numba = numba.jit(pairwise_python)\n",
    "\n",
    "%timeit -n10 pairwise_numba(X)"
   ]
  },
  {
   "cell_type": "code",
   "execution_count": 6,
   "metadata": {
    "collapsed": false
   },
   "outputs": [],
   "source": [
    "%%cython \n",
    "\n",
    "import numpy as np\n",
    "cimport cython\n",
    "from libc.math cimport sqrt\n",
    "\n",
    "@cython.boundscheck(False)\n",
    "@cython.wraparound(False)\n",
    "def pairwise_cython(double[:, ::1] X):\n",
    "    cdef int M = X.shape[0]\n",
    "    cdef int N = X.shape[1]\n",
    "    cdef double tmp, d\n",
    "    cdef double[:, ::1] D = np.empty((M, M), dtype=np.float64)\n",
    "    for i in range(M):\n",
    "        for j in range(M):\n",
    "            d = 0.0\n",
    "            for k in range(N):\n",
    "                tmp = X[i, k] - X[j, k]\n",
    "                d += tmp * tmp\n",
    "            D[i, j] = sqrt(d)\n",
    "    return np.asarray(D)"
   ]
  },
  {
   "cell_type": "code",
   "execution_count": 7,
   "metadata": {
    "collapsed": false
   },
   "outputs": [
    {
     "name": "stdout",
     "output_type": "stream",
     "text": [
      "10 loops, best of 3: 6.6 ms per loop\n"
     ]
    }
   ],
   "source": [
    "%timeit -n10 pairwise_cython(X)"
   ]
  },
  {
   "cell_type": "markdown",
   "metadata": {},
   "source": [
    "The timiing for the results in Jake's post (2013) and the results from this post (2017) are summarized below. "
   ]
  },
  {
   "cell_type": "code",
   "execution_count": 8,
   "metadata": {
    "collapsed": false
   },
   "outputs": [
    {
     "data": {
      "text/html": [
       "<div>\n",
       "<table border=\"1\" class=\"dataframe\">\n",
       "  <thead>\n",
       "    <tr>\n",
       "      <th></th>\n",
       "      <th colspan=\"2\" halign=\"left\">2013</th>\n",
       "      <th colspan=\"2\" halign=\"left\">2017</th>\n",
       "    </tr>\n",
       "    <tr>\n",
       "      <th></th>\n",
       "      <th>Speedup</th>\n",
       "      <th>Time (ms)</th>\n",
       "      <th>Speedup</th>\n",
       "      <th>Time (ms)</th>\n",
       "    </tr>\n",
       "  </thead>\n",
       "  <tbody>\n",
       "    <tr>\n",
       "      <th>Python</th>\n",
       "      <td>1</td>\n",
       "      <td>13400.00</td>\n",
       "      <td>1</td>\n",
       "      <td>2470.00</td>\n",
       "    </tr>\n",
       "    <tr>\n",
       "      <th>Numpy</th>\n",
       "      <td>121</td>\n",
       "      <td>111.00</td>\n",
       "      <td>65</td>\n",
       "      <td>38.30</td>\n",
       "    </tr>\n",
       "    <tr>\n",
       "      <th>Numba</th>\n",
       "      <td>1469</td>\n",
       "      <td>9.12</td>\n",
       "      <td>611</td>\n",
       "      <td>4.04</td>\n",
       "    </tr>\n",
       "    <tr>\n",
       "      <th>Cython</th>\n",
       "      <td>1357</td>\n",
       "      <td>9.87</td>\n",
       "      <td>374</td>\n",
       "      <td>6.60</td>\n",
       "    </tr>\n",
       "  </tbody>\n",
       "</table>\n",
       "</div>"
      ],
      "text/plain": [
       "          2013              2017          \n",
       "       Speedup Time (ms) Speedup Time (ms)\n",
       "Python       1  13400.00       1   2470.00\n",
       "Numpy      121    111.00      65     38.30\n",
       "Numba     1469      9.12     611      4.04\n",
       "Cython    1357      9.87     374      6.60"
      ]
     },
     "execution_count": 8,
     "metadata": {},
     "output_type": "execute_result"
    }
   ],
   "source": [
    "df1 = pd.DataFrame({\"Time (ms)\": [13400,111, 9.12, 9.87], \"Speedup\": [1, 121, 1469, 1357]}, \n",
    "             index=[\"Python\", \"Numpy\", \"Numba\", \"Cython\"])\n",
    "df2 = pd.DataFrame({\"Time (ms)\": [2470, 38.3, 4.04, 6.6], \"Speedup\": [1, 65, 611, 374]}, \n",
    "             index=[\"Python\", \"Numpy\", \"Numba\", \"Cython\"])\n",
    "df = pd.concat([df1, df2], axis = 1, keys=([\"2013\", \"2017\"]))\n",
    "df"
   ]
  },
  {
   "cell_type": "markdown",
   "metadata": {},
   "source": [
    "The timings are speedup number for the 2013 and 2017 runs are very different due to differences in versions and perhaps even the python version. This post is using Py35 running in Windows. The take away here is that the numpy is atleast 2 orders of magnitude faster than python. And the numba and cython snippets are about an order of magnitude faster than numpy in both the benchmarks.\n",
    "\n",
    "I will not rush to make any claims on numba vs cython. It is unclear what kinds of optimizations is used in the `cython` magic. I would expect the `cython` code to be as fast as C and perhaps some tweaking will help us get there. It is really interesting how easy it is to get performance boost from `numba`. From an ease of use point of view, `numba` is hands down winner in this simple example."
   ]
  },
  {
   "cell_type": "markdown",
   "metadata": {},
   "source": [
    "\n",
    "## Amortizing Payments"
   ]
  },
  {
   "cell_type": "markdown",
   "metadata": {},
   "source": [
    "Here lets look at one more example. This is an amortizing payment calculation, such as in mortgage payments."
   ]
  },
  {
   "cell_type": "code",
   "execution_count": 9,
   "metadata": {
    "collapsed": true
   },
   "outputs": [],
   "source": [
    "def amortize_payments_py(B0, R, term, cpr=0.0):\n",
    "    smm = 1. - pow(1 - cpr/100., 1/12.)\n",
    "    r = R/1200.\n",
    "    S = np.zeros(term)\n",
    "    P = np.zeros(term)\n",
    "    I = np.zeros(term)\n",
    "    B = np.zeros(term)\n",
    "    Pr = np.zeros(term)\n",
    "    Bt = B0\n",
    "    pow_term = pow(1+r, term)\n",
    "    A = Bt*r*pow_term/(pow_term - 1)\n",
    "    for i in range(term):\n",
    "        n = term-i\n",
    "        \n",
    "        I[i] = Bt * r\n",
    "        Pr[i] = smm*Bt\n",
    "        S[i] = A-I[i] if Bt>1e-2 else 0.\n",
    "        P[i] = S[i] + Pr[i]\n",
    "        Bt = max(Bt - P[i], 0.0)\n",
    "        \n",
    "        B[i] = Bt\n",
    "    return S,I, Pr,P, B"
   ]
  },
  {
   "cell_type": "markdown",
   "metadata": {},
   "source": [
    "Here is the equivalent Cython function."
   ]
  },
  {
   "cell_type": "code",
   "execution_count": 10,
   "metadata": {
    "collapsed": false
   },
   "outputs": [],
   "source": [
    "%%cython\n",
    "cimport cython \n",
    "import numpy as np\n",
    "from libc.math cimport pow\n",
    "\n",
    "@cython.boundscheck(False)\n",
    "@cython.wraparound(False)\n",
    "def amortize_payments_cy(double B0,double R,int term,double cpr=0.0):\n",
    "    cdef double smm = 1. - pow(1 - cpr/100., 1/12.)\n",
    "    cdef double r = R/1200.\n",
    "    cdef double[:] D = np.empty(term, dtype=np.float64)\n",
    "    cdef double[:] S = np.empty(term, dtype=np.float64)\n",
    "    cdef double[:] P = np.empty(term, dtype=np.float64)\n",
    "    cdef double[:] I = np.empty(term, dtype=np.float64)\n",
    "    cdef double[:] B = np.empty(term, dtype=np.float64)\n",
    "    cdef double[:] Pr = np.empty(term, dtype=np.float64)\n",
    "    cdef double Bt = B0\n",
    "    cdef double pow_term = pow(1+r, term)\n",
    "    cdef double A = Bt*r*pow_term/(pow_term - 1.)\n",
    "    cdef double n = term\n",
    "    cdef int i=0\n",
    "    for i in range(term):\n",
    "        n = term-i       \n",
    "        I[i] = Bt * r\n",
    "        Pr[i] = smm*Bt\n",
    "        S[i] = A-I[i] if Bt>1e-2 else 0.\n",
    "        P[i] = S[i] + Pr[i]\n",
    "        Bt = max(Bt - P[i], 0.0)        \n",
    "        B[i] = Bt\n",
    "    return np.asarray(S),np.asarray(I), np.asarray(Pr),np.asarray(P), np.asarray(B)"
   ]
  },
  {
   "cell_type": "markdown",
   "metadata": {},
   "source": [
    "Here is the Numba version"
   ]
  },
  {
   "cell_type": "code",
   "execution_count": 11,
   "metadata": {
    "collapsed": true
   },
   "outputs": [],
   "source": [
    "amortize_payments_nb = numba.njit(cache=True)(amortize_payments_py)"
   ]
  },
  {
   "cell_type": "markdown",
   "metadata": {},
   "source": [
    "Let's compare the performance of the three function types."
   ]
  },
  {
   "cell_type": "code",
   "execution_count": 12,
   "metadata": {
    "collapsed": true
   },
   "outputs": [],
   "source": [
    "B0 = 500000.\n",
    "R = 4.0\n",
    "term = 360"
   ]
  },
  {
   "cell_type": "markdown",
   "metadata": {},
   "source": [
    "** Python**"
   ]
  },
  {
   "cell_type": "code",
   "execution_count": 17,
   "metadata": {
    "collapsed": false
   },
   "outputs": [
    {
     "name": "stdout",
     "output_type": "stream",
     "text": [
      "1000 loops, best of 3: 369 µs per loop\n"
     ]
    }
   ],
   "source": [
    "%timeit -n1000 S,I, Pr,P, B = amortize_payments_py(B0, R, term, cpr=10)"
   ]
  },
  {
   "cell_type": "markdown",
   "metadata": {},
   "source": [
    "** Numba **"
   ]
  },
  {
   "cell_type": "code",
   "execution_count": 18,
   "metadata": {
    "collapsed": false
   },
   "outputs": [
    {
     "name": "stdout",
     "output_type": "stream",
     "text": [
      "1000 loops, best of 3: 8.64 µs per loop\n"
     ]
    }
   ],
   "source": [
    "%timeit -n1000 S,I, Pr,P, B = amortize_payments_nb(B0, R, term, cpr=10)"
   ]
  },
  {
   "cell_type": "markdown",
   "metadata": {},
   "source": [
    "** Cython **"
   ]
  },
  {
   "cell_type": "code",
   "execution_count": 19,
   "metadata": {
    "collapsed": false
   },
   "outputs": [
    {
     "name": "stdout",
     "output_type": "stream",
     "text": [
      "1000 loops, best of 3: 28.7 µs per loop\n"
     ]
    }
   ],
   "source": [
    "%timeit -n1000 S,I, Pr,P, B = amortize_payments_cy(B0, R, term, cpr=10)"
   ]
  },
  {
   "cell_type": "markdown",
   "metadata": {
    "collapsed": true
   },
   "source": [
    "Once again we see that `cython` and `numba` methods are orders of magnitude (roughly 15X) faster than python version. The `numba` version is almost 3X faster than Cython. There are probably some performance cython tweaks that I am missing perhaps. "
   ]
  },
  {
   "cell_type": "markdown",
   "metadata": {
    "collapsed": true
   },
   "source": [
    "## Conclusion\n",
    "\n",
    "In this post, I have redone Jake's pairwise distance example to see how the same code performs 3 years forward. I also discuss a common finance example of amortizing cashflow generation. The `numba` and `cython` snippets are orders of magnitude faster than a pure python version. Surprisingly, `numba` is 20% to 300% faster than `cython` on these examples. There may very well be some `cython` tweaks I might be missing. But nevertheless these examples show how one can easily get performance boost using `numba` module. "
   ]
  }
 ],
 "metadata": {
  "anaconda-cloud": {},
  "kernelspec": {
   "display_name": "Python [default]",
   "language": "python",
   "name": "python3"
  },
  "language_info": {
   "codemirror_mode": {
    "name": "ipython",
    "version": 3
   },
   "file_extension": ".py",
   "mimetype": "text/x-python",
   "name": "python",
   "nbconvert_exporter": "python",
   "pygments_lexer": "ipython3",
   "version": "3.5.2"
  }
 },
 "nbformat": 4,
 "nbformat_minor": 1
}
