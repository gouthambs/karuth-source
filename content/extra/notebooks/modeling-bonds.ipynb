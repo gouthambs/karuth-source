{
 "metadata": {
  "name": "",
  "signature": "sha256:d510a0792a13607bee52a49541b9cc7bba96a1fe6ef505c42875305a5b229a05"
 },
 "nbformat": 3,
 "nbformat_minor": 0,
 "worksheets": [
  {
   "cells": [
    {
     "cell_type": "markdown",
     "metadata": {},
     "source": [
      "# [Modeling Fixed Rate Bonds Using QuantLib](http://gouthamanbalaraman.com/blog/quantlib-bond-modeling.html)\n",
      "[Gouthaman Balaraman](http://gouthamanbalaraman.com)\n"
     ]
    },
    {
     "cell_type": "markdown",
     "metadata": {},
     "source": [
      "Let's consider a hypothetical bond with a par value of 100, that pays 6% coupon\n",
      "semi-annually issued on January 15th, 2015 and set to mature on January 15th, 2016.\n",
      "The bond will pay a coupon on July 15th, 2015 and January 15th, 2016. The par\n",
      "amount of 100 will also be paid on the January 15th, 2016.\n",
      "\n",
      "To make things simpler, lets assume that we know the spot rates of the treasury as\n",
      "of January 15th, 2015. The annualized spot rates are 0.5% for 6 months\n",
      "and 0.7% for 1 year point. Lets calculate the fair value of this bond.\n"
     ]
    },
    {
     "cell_type": "code",
     "collapsed": false,
     "input": [
      "3/pow(1+0.005, 0.5) + (100 + 3)/(1+0.007)"
     ],
     "language": "python",
     "metadata": {},
     "outputs": [
      {
       "metadata": {},
       "output_type": "pyout",
       "prompt_number": 5,
       "text": [
        "105.27653992490681"
       ]
      }
     ],
     "prompt_number": 5
    },
    {
     "cell_type": "markdown",
     "metadata": {},
     "source": [
      "Lets calculate the same using QuantLib"
     ]
    },
    {
     "cell_type": "code",
     "collapsed": false,
     "input": [
      "import QuantLib as ql"
     ],
     "language": "python",
     "metadata": {},
     "outputs": [],
     "prompt_number": 1
    },
    {
     "cell_type": "code",
     "collapsed": false,
     "input": [
      "todaysDate = ql.Date(15, 1, 2015)\n",
      "ql.Settings.instance().evaluationDate = todaysDate\n",
      "spotDates = [ql.Date(15, 1, 2015), ql.Date(15, 7, 2015), ql.Date(15, 1, 2016)]\n",
      "spotRates = [0.0, 0.005, 0.007]\n",
      "dayCount = ql.Thirty360()\n",
      "calendar = ql.UnitedStates()\n",
      "interpolation = ql.Linear()\n",
      "compounding = ql.Compounded\n",
      "compoundingFrequency = ql.Annual\n",
      "spotCurve = ql.ZeroCurve(spotDates, spotRates, dayCount, calendar, interpolation,\n",
      "                             compounding, compoundingFrequency)\n",
      "spotCurveHandle = ql.YieldTermStructureHandle(spotCurve)"
     ],
     "language": "python",
     "metadata": {},
     "outputs": [],
     "prompt_number": 2
    },
    {
     "cell_type": "code",
     "collapsed": false,
     "input": [
      "issueDate = ql.Date(15, 1, 2015)\n",
      "maturityDate = ql.Date(15, 1, 2016)\n",
      "tenor = ql.Period(ql.Semiannual)\n",
      "calendar = ql.UnitedStates()\n",
      "bussinessConvention = ql.Unadjusted\n",
      "dateGeneration = ql.DateGeneration.Backward\n",
      "monthEnd = False\n",
      "schedule = ql.Schedule (issueDate, maturityDate, tenor, calendar, bussinessConvention,\n",
      "                            bussinessConvention , dateGeneration, monthEnd)\n",
      "list(schedule)"
     ],
     "language": "python",
     "metadata": {},
     "outputs": [
      {
       "metadata": {},
       "output_type": "pyout",
       "prompt_number": 3,
       "text": [
        "[Date(15,1,2015), Date(15,7,2015), Date(15,1,2016)]"
       ]
      }
     ],
     "prompt_number": 3
    },
    {
     "cell_type": "code",
     "collapsed": false,
     "input": [
      "# Now lets build the coupon\n",
      "dayCount = ql.Thirty360()\n",
      "couponRate = .06\n",
      "coupons = [couponRate]\n",
      "\n",
      "# Now lets construct the FixedRateBond\n",
      "settlementDays = 0\n",
      "faceValue = 100\n",
      "fixedRateBond = ql.FixedRateBond(settlementDays, faceValue, schedule, coupons, dayCount)\n",
      "\n",
      "# create a bond engine with the term structure as input;\n",
      "# set the bond to use this bond engine\n",
      "bondEngine = ql.DiscountingBondEngine(spotCurveHandle)\n",
      "fixedRateBond.setPricingEngine(bondEngine)\n",
      "\n",
      "# Finally the price\n",
      "fixedRateBond.NPV()"
     ],
     "language": "python",
     "metadata": {},
     "outputs": [
      {
       "metadata": {},
       "output_type": "pyout",
       "prompt_number": 4,
       "text": [
        "105.27653992490683"
       ]
      }
     ],
     "prompt_number": 4
    }
   ],
   "metadata": {}
  }
 ]
}