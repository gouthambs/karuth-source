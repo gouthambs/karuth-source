{
 "metadata": {
  "name": "",
  "signature": "sha256:7494019512a765bc7d08968e8bf9c34c810290f50bd1bb878a8b9489a452b341"
 },
 "nbformat": 3,
 "nbformat_minor": 0,
 "worksheets": [
  {
   "cells": [
    {
     "cell_type": "markdown",
     "metadata": {},
     "source": [
      "# Introducing Introspection in QTK\n",
      "[Goutham Balaraman](http://gouthamanbalaraman.com)"
     ]
    },
    {
     "cell_type": "markdown",
     "metadata": {},
     "source": [
      "Last couple of months, I have been working on the infrastructure of `QTK`. I annouced the first point release a couple of weeks back after I implemented the core internals. Recently, I implemented the workflow paradigm for `qtk`. I will highlight some of the core concepts here. The `Template` in `QTK` is like a blueprint for what you want to accomplish. Let us see how to create a flat forward curve using some of the introspection concepts introduced in 0.1.3 onwards."
     ]
    },
    {
     "cell_type": "code",
     "collapsed": false,
     "input": [
      "from qtk import Template as T, Controller"
     ],
     "language": "python",
     "metadata": {},
     "outputs": [],
     "prompt_number": 1
    },
    {
     "cell_type": "markdown",
     "metadata": {},
     "source": [
      "The above statement is used to import the template. Now you can use the `tab` functionality in ipython to get all the different types of templates. Now if you want to get the description of how to create this template, then all you do is execute that template as shown below. This is going to produce a rather nice output for you to view with the required variables and such."
     ]
    },
    {
     "cell_type": "code",
     "collapsed": false,
     "input": [
      "T.TS_YIELD_FLAT"
     ],
     "language": "python",
     "metadata": {},
     "outputs": [
      {
       "html": [
        "<p><strong>Description</strong></p>\n",
        "<p>A template to create a flat forward yield curve.</p>\n",
        "<p><strong>Required Fields</strong></p>\n",
        "<ul>\n",
        "<li><code>Template</code> [<em>Template</em>]: 'TermStructure.Yield.FlatCurve'</li>\n",
        "<li><code>ForwardRate</code> [<em>Float</em>]: Forward rate from an yield curve in decimal</li>\n",
        "<li><code>Currency</code> [<em>String</em>]: Currency</li>\n",
        "</ul>\n",
        "<p><strong>Optional Fields</strong></p>\n",
        "<ul>\n",
        "<li><code>ObjectId</code> [<em>String</em>]: A unique name or identifier to refer to this dictionary data</li>\n",
        "<li><code>AsOfDate</code> [<em>Date</em>]: As of date for the yield curve to create a curve fixed to a given reference date. Alternately, one can provide settlement days and settlement calendar to do relative to calculation date.</li>\n",
        "<li><code>DiscountBasis</code> [<em>DayCount</em>]: Discount Basis</li>\n",
        "<li><code>SettlementDays</code> [<em>Integer</em>]: Settlement days, and is used if asof date is not provided.</li>\n",
        "<li><code>SettlementCalendar</code> [<em>Calendar</em>]: Settlement Calendar</li>\n",
        "<li><code>Compounding</code> [<em>Compounding</em>]: Compounding</li>\n",
        "<li><code>CompoundingFrequency</code> [<em>Frequency</em>]: Compounding Frequency</li>\n",
        "<li><code>Extrapolation</code> [<em>Boolean</em>]: Enable Extrapolation</li>\n",
        "</ul>"
       ],
       "metadata": {},
       "output_type": "pyout",
       "prompt_number": 2,
       "text": [
        "TermStructure.Yield.FlatCurve"
       ]
      }
     ],
     "prompt_number": 2
    },
    {
     "cell_type": "markdown",
     "metadata": {},
     "source": [
      "\n",
      "\n",
      "\n",
      "Or if you use a simple python console, then you can use the help to print the info in `Markdown` format. If you just need the help string, then you can use the `info` method."
     ]
    },
    {
     "cell_type": "code",
     "collapsed": false,
     "input": [
      "T.TS_YIELD_FLAT.help()"
     ],
     "language": "python",
     "metadata": {},
     "outputs": [
      {
       "output_type": "stream",
       "stream": "stdout",
       "text": [
        "**Description**\n",
        "\n",
        "A template to create a flat forward yield curve.\n",
        "\n",
        "**Required Fields**\n",
        "\n",
        " - `Template` [*Template*]: 'TermStructure.Yield.FlatCurve'\n",
        " - `ForwardRate` [*Float*]: Forward rate from an yield curve in decimal\n",
        " - `Currency` [*String*]: Currency\n",
        "\n",
        "**Optional Fields**\n",
        "\n",
        " - `ObjectId` [*String*]: A unique name or identifier to refer to this dictionary data\n",
        " - `AsOfDate` [*Date*]: As of date for the yield curve to create a curve fixed to a given reference date. Alternately, one can provide settlement days and settlement calendar to do relative to calculation date.\n",
        " - `DiscountBasis` [*DayCount*]: Discount Basis\n",
        " - `SettlementDays` [*Integer*]: Settlement days, and is used if asof date is not provided.\n",
        " - `SettlementCalendar` [*Calendar*]: Settlement Calendar\n",
        " - `Compounding` [*Compounding*]: Compounding\n",
        " - `CompoundingFrequency` [*Frequency*]: Compounding Frequency\n",
        " - `Extrapolation` [*Boolean*]: Enable Extrapolation\n",
        "\n"
       ]
      }
     ],
     "prompt_number": 3
    },
    {
     "cell_type": "markdown",
     "metadata": {},
     "source": [
      "In order to create a yield curve, you can use the `sample_data` method attached to the template to get a sample dictionary object. This is what it looks like."
     ]
    },
    {
     "cell_type": "code",
     "collapsed": false,
     "input": [
      "T.TS_YIELD_FLAT.sample_data()"
     ],
     "language": "python",
     "metadata": {},
     "outputs": [
      {
       "metadata": {},
       "output_type": "pyout",
       "prompt_number": 4,
       "text": [
        "{'AsOfDate': 'Optional (Date)',\n",
        " 'Compounding': 'Optional (Compounding)',\n",
        " 'CompoundingFrequency': 'Optional (Frequency)',\n",
        " 'Currency': 'Required (String)',\n",
        " 'DiscountBasis': 'Optional (DayCount)',\n",
        " 'Extrapolation': 'Optional (Boolean)',\n",
        " 'ForwardRate': 'Required (Float)',\n",
        " 'ObjectId': 'Optional (String)',\n",
        " 'SettlementCalendar': 'Optional (Calendar)',\n",
        " 'SettlementDays': 'Optional (Integer)',\n",
        " 'Template': 'TermStructure.Yield.FlatCurve'}"
       ]
      }
     ],
     "prompt_number": 4
    },
    {
     "cell_type": "markdown",
     "metadata": {},
     "source": [
      "You can prune the optional fields to just pass the required items. It is worth pointing out that sometimes when one of two keywords need to be provided, both would be marked as optional. Looking at the documentation as listed by `info` or `help` methods will clarify the usage. For example, the fixed rate bond template `INSTRUMENT_BOND_TBOND` has `Coupon` and `ListOfCoupon` both marked as optional fields. But this is because you can provide either one of the two as inputs, but atleast one of the two has to be provided. This is clarified in the documentation."
     ]
    },
    {
     "cell_type": "code",
     "collapsed": false,
     "input": [
      "zero_curve = {\"Template\": T.TS_YIELD_FLAT.id, \"ForwardRate\": 0.02, \"Currency\": \"USD\", \"ObjectId\": \"FlatCurve.USD\"}\n",
      "data = [zero_curve]"
     ],
     "language": "python",
     "metadata": {},
     "outputs": [],
     "prompt_number": 5
    },
    {
     "cell_type": "code",
     "collapsed": false,
     "input": [
      "c = Controller(data)\n",
      "out = c.process(\"1/15/2016\")\n",
      "ts = c.object(\"FlatCurve.USD\")"
     ],
     "language": "python",
     "metadata": {},
     "outputs": [],
     "prompt_number": 6
    },
    {
     "cell_type": "code",
     "collapsed": false,
     "input": [
      "ts.referenceDate()"
     ],
     "language": "python",
     "metadata": {},
     "outputs": [
      {
       "metadata": {},
       "output_type": "pyout",
       "prompt_number": 7,
       "text": [
        "Date(20,1,2016)"
       ]
      }
     ],
     "prompt_number": 7
    },
    {
     "cell_type": "code",
     "collapsed": false,
     "input": [
      "import QuantLib as ql\n",
      "time_grid = range(30)\n",
      "zero = [ts.zeroRate(t, ql.Compounded).rate() for t in time_grid]"
     ],
     "language": "python",
     "metadata": {},
     "outputs": [],
     "prompt_number": 8
    },
    {
     "cell_type": "code",
     "collapsed": false,
     "input": [
      "import matplotlib.pyplot as plt\n",
      "%matplotlib inline"
     ],
     "language": "python",
     "metadata": {},
     "outputs": [],
     "prompt_number": 9
    },
    {
     "cell_type": "code",
     "collapsed": false,
     "input": [
      "plt.scatter(time_grid, zero)\n",
      "plt.xlabel(\"Time\", size=12)\n",
      "plt.ylabel(\"Zero Rate\", size=12)"
     ],
     "language": "python",
     "metadata": {},
     "outputs": [
      {
       "metadata": {},
       "output_type": "pyout",
       "prompt_number": 10,
       "text": [
        "<matplotlib.text.Text at 0x7f1f95768690>"
       ]
      },
      {
       "metadata": {},
       "output_type": "display_data",
       "png": "[encoded data removed]",
       "text": [
        "<matplotlib.figure.Figure at 0x7f1f977b0b90>"
       ]
      }
     ],
     "prompt_number": 10
    }
   ],
   "metadata": {}
  }
 ]
}