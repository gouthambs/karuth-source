{
 "metadata": {
  "name": "",
  "signature": "sha256:4aa10d354309e3f051e4b52c2f490bd33deacbff9ea6c0263f0deff84d746d63"
 },
 "nbformat": 3,
 "nbformat_minor": 0,
 "worksheets": [
  {
   "cells": [
    {
     "cell_type": "markdown",
     "metadata": {},
     "source": [
      "# Valuation of Bonds with Credit Spreads in QuantLib Python\n",
      "[Goutham Balaraman](http://gouthamanbalaraman.com)"
     ]
    },
    {
     "cell_type": "markdown",
     "metadata": {},
     "source": [
      "In an earlier example on [pricing fixed rate bonds](http://gouthamanbalaraman.com/blog/quantlib-bond-modeling.html) I demonstrated how to construct and value bonds using the given yield curve. In this example, let us take a look at valuing bonds with credit spreads. We will show how to add credit spreads to the give yield curve using different approaches. \n",
      "\n",
      "As usual, let us start by importing the QuantLib library and pick a valuation date and set the calculation instance evaluation date."
     ]
    },
    {
     "cell_type": "code",
     "collapsed": false,
     "input": [
      "import QuantLib as ql\n",
      "calc_date = ql.Date(26, 7, 2016)\n",
      "ql.Settings.instance().evaluationDate = calc_date"
     ],
     "language": "python",
     "metadata": {},
     "outputs": [],
     "prompt_number": 1
    },
    {
     "cell_type": "markdown",
     "metadata": {},
     "source": [
      "For simplicity, let us imagine that the treasury yield curve is flat. This makes it easier to construct the yield curve easily. This also allows us to directly shock the yield curve, and provides a validation for the more general treatment of shocks on yield curve."
     ]
    },
    {
     "cell_type": "code",
     "collapsed": false,
     "input": [
      "flat_rate = ql.SimpleQuote(0.0015)\n",
      "rate_handle = ql.QuoteHandle(flat_rate)\n",
      "day_count = ql.Actual360()\n",
      "calendar = ql.UnitedStates()\n",
      "ts_yield = ql.FlatForward(calc_date, rate_handle, day_count)\n",
      "ts_handle = ql.YieldTermStructureHandle(ts_yield)"
     ],
     "language": "python",
     "metadata": {},
     "outputs": [],
     "prompt_number": 2
    },
    {
     "cell_type": "markdown",
     "metadata": {},
     "source": [
      "Now let us construct the bond itself. We do that by first constructing the schedule, and then passing the schedule into the bond."
     ]
    },
    {
     "cell_type": "code",
     "collapsed": false,
     "input": [
      "issue_date = ql.Date(15, 7, 2016)\n",
      "maturity_date = ql.Date(15, 7, 2021)\n",
      "tenor = ql.Period(ql.Semiannual)\n",
      "calendar = ql.UnitedStates()\n",
      "bussiness_convention = ql.Unadjusted\n",
      "date_generation = ql.DateGeneration.Backward\n",
      "month_end = False\n",
      "schedule = ql.Schedule (issue_date, maturity_date, \n",
      "                        tenor, calendar, \n",
      "                        bussiness_convention,\n",
      "                        bussiness_convention, \n",
      "                        date_generation, \n",
      "                        month_end)"
     ],
     "language": "python",
     "metadata": {},
     "outputs": [],
     "prompt_number": 3
    },
    {
     "cell_type": "code",
     "collapsed": false,
     "input": [
      "settlement_days = 2\n",
      "day_count = ql.Thirty360()\n",
      "coupon_rate = .03\n",
      "coupons = [coupon_rate]\n",
      "\n",
      "# Now lets construct the FixedRateBond\n",
      "settlement_days = 0\n",
      "face_value = 100\n",
      "fixed_rate_bond = ql.FixedRateBond(\n",
      "    settlement_days, \n",
      "    face_value, \n",
      "    schedule, \n",
      "    coupons, \n",
      "    day_count)\n"
     ],
     "language": "python",
     "metadata": {},
     "outputs": [],
     "prompt_number": 4
    },
    {
     "cell_type": "markdown",
     "metadata": {},
     "source": [
      "Now that we have the `fixed_rate_bond` object, we can create a `DiscountingBondEngine` and value the bond."
     ]
    },
    {
     "cell_type": "code",
     "collapsed": false,
     "input": [
      "bond_engine = ql.DiscountingBondEngine(ts_handle)\n",
      "fixed_rate_bond.setPricingEngine(bond_engine)\n",
      "fixed_rate_bond.NPV()"
     ],
     "language": "python",
     "metadata": {},
     "outputs": [
      {
       "metadata": {},
       "output_type": "pyout",
       "prompt_number": 5,
       "text": [
        "114.18461651948999"
       ]
      }
     ],
     "prompt_number": 5
    },
    {
     "cell_type": "markdown",
     "metadata": {},
     "source": [
      "So far, we have valued the bond under the treasury yield curve and have not incorporated the credit spreads. Let us assume that the market prices this bond with a `50BP` spread on top of the treasury yield curve. Now we can, in this case, directly shock the `flat_rate` used in the yield term structure. Let us see what the value is:"
     ]
    },
    {
     "cell_type": "code",
     "collapsed": false,
     "input": [
      "flat_rate.setValue(0.0065)\n",
      "fixed_rate_bond.NPV()"
     ],
     "language": "python",
     "metadata": {},
     "outputs": [
      {
       "metadata": {},
       "output_type": "pyout",
       "prompt_number": 6,
       "text": [
        "111.5097766266561"
       ]
      }
     ],
     "prompt_number": 6
    },
    {
     "cell_type": "markdown",
     "metadata": {},
     "source": [
      "Above we shocked the `flat_rate` and since the yield term structure is an `Observer` observing the `Observable` `flat_rate`, we could just shock the rate, and QuantLib behind the scenes recalculates all the `Observer`s. Though, this approach is not always viable, in cases such as a bootstrapped bond curve. So let us look at two different approaches that can be used. Before we do that, we need to reset the `flat_rate` back to what it was."
     ]
    },
    {
     "cell_type": "code",
     "collapsed": false,
     "input": [
      "flat_rate.setValue(0.0015)\n",
      "fixed_rate_bond.NPV()"
     ],
     "language": "python",
     "metadata": {},
     "outputs": [
      {
       "metadata": {},
       "output_type": "pyout",
       "prompt_number": 7,
       "text": [
        "114.18461651948999"
       ]
      }
     ],
     "prompt_number": 7
    },
    {
     "cell_type": "markdown",
     "metadata": {},
     "source": [
      "#### Parallel Shift of the Yield Curve\n",
      "\n",
      "The whole yield curve can be shifted up and down, and the bond revalued with the help of the `ZeroSpreadedTermStructure`. The constructor takes the yield curve and the spread as argument."
     ]
    },
    {
     "cell_type": "code",
     "collapsed": false,
     "input": [
      "spread1 = ql.SimpleQuote(0.0050)\n",
      "spread_handle1 = ql.QuoteHandle(spread1)\n",
      "ts_spreaded1 = ql.ZeroSpreadedTermStructure(ts_handle, spread_handle1)\n",
      "ts_spreaded_handle1 = ql.YieldTermStructureHandle(ts_spreaded1)\n",
      "\n",
      "bond_engine = ql.DiscountingBondEngine(ts_spreaded_handle1)\n",
      "fixed_rate_bond.setPricingEngine(bond_engine)\n",
      "\n",
      "# Finally the price\n",
      "fixed_rate_bond.NPV()"
     ],
     "language": "python",
     "metadata": {},
     "outputs": [
      {
       "metadata": {},
       "output_type": "pyout",
       "prompt_number": 8,
       "text": [
        "111.50977662665609"
       ]
      }
     ],
     "prompt_number": 8
    },
    {
     "cell_type": "markdown",
     "metadata": {},
     "source": [
      "Once we have constructed the spreaded term structure, it is rather easy to value for other spreads. All we need to do is change the `SimpleQuote` object `spread1` here."
     ]
    },
    {
     "cell_type": "code",
     "collapsed": false,
     "input": [
      "spread1.setValue(0.01)\n",
      "fixed_rate_bond.NPV()"
     ],
     "language": "python",
     "metadata": {},
     "outputs": [
      {
       "metadata": {},
       "output_type": "pyout",
       "prompt_number": 9,
       "text": [
        "108.89999943320038"
       ]
      }
     ],
     "prompt_number": 9
    },
    {
     "cell_type": "markdown",
     "metadata": {},
     "source": [
      "#### Non-Parallel Shift of the Yield Curve\n",
      "The above method allows only for parallel shift of the yield curve. The `SpreadedLinearZeroInterpolatedTermStructure` class allows for non parallel shock. First, let us mimic a parallel shift using this class. For the constructor, we need to pass the yield term structure that we wish to shift, and the a list of spreads and a list of the corresponding dates."
     ]
    },
    {
     "cell_type": "code",
     "collapsed": false,
     "input": [
      "spread21 = ql.SimpleQuote(0.0050)\n",
      "spread22 = ql.SimpleQuote(0.0050)\n",
      "start_date = calc_date\n",
      "end_date = calendar.advance(start_date, ql.Period(50, ql.Years))\n",
      "ts_spreaded2 = ql.SpreadedLinearZeroInterpolatedTermStructure(\n",
      "    ts_handle,\n",
      "    [ql.QuoteHandle(spread21), ql.QuoteHandle(spread22)],\n",
      "    [start_date, end_date]\n",
      ")\n",
      "ts_spreaded_handle2 = ql.YieldTermStructureHandle(ts_spreaded2)\n",
      "\n",
      "bond_engine = ql.DiscountingBondEngine(ts_spreaded_handle2)\n",
      "fixed_rate_bond.setPricingEngine(bond_engine)\n",
      "\n",
      "# Finally the price\n",
      "fixed_rate_bond.NPV()\n"
     ],
     "language": "python",
     "metadata": {},
     "outputs": [
      {
       "metadata": {},
       "output_type": "pyout",
       "prompt_number": 10,
       "text": [
        "111.50977662665609"
       ]
      }
     ],
     "prompt_number": 10
    },
    {
     "cell_type": "markdown",
     "metadata": {},
     "source": [
      "Here, once again we can change the value of `spread2` to value for other shocks."
     ]
    },
    {
     "cell_type": "code",
     "collapsed": false,
     "input": [
      "spread21.setValue(0.01)\n",
      "spread22.setValue(0.01)\n",
      "fixed_rate_bond.NPV()"
     ],
     "language": "python",
     "metadata": {},
     "outputs": [
      {
       "metadata": {},
       "output_type": "pyout",
       "prompt_number": 11,
       "text": [
        "108.89999943320038"
       ]
      }
     ],
     "prompt_number": 11
    },
    {
     "cell_type": "markdown",
     "metadata": {},
     "source": [
      "We can easily do non-parallel shifts just by shocking one end. "
     ]
    },
    {
     "cell_type": "code",
     "collapsed": false,
     "input": [
      "spread21.setValue(0.005)\n",
      "spread22.setValue(0.01)\n",
      "fixed_rate_bond.NPV()"
     ],
     "language": "python",
     "metadata": {},
     "outputs": [
      {
       "metadata": {},
       "output_type": "pyout",
       "prompt_number": 12,
       "text": [
        "111.25358792334083"
       ]
      }
     ],
     "prompt_number": 12
    },
    {
     "cell_type": "markdown",
     "metadata": {},
     "source": [
      "The `SpreadedLinearZeroInterpolatedTermStructure` is a very powerful class and can be used to implement key-rate duration calculations."
     ]
    }
   ],
   "metadata": {}
  }
 ]
}