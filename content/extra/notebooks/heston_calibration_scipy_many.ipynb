{
 "metadata": {
  "name": "",
  "signature": "sha256:dc7b4bacfd929b45f534317938b41a9a254b62a09277899faebac6c370bfba3a"
 },
 "nbformat": 3,
 "nbformat_minor": 0,
 "worksheets": [
  {
   "cells": [
    {
     "cell_type": "markdown",
     "metadata": {},
     "source": [
      "# Heston Model Parameter Calibration in QuantLib Python & Scipy\n",
      "[Goutham Balaraman](http://gouthamanbalaraman.com)"
     ]
    },
    {
     "cell_type": "markdown",
     "metadata": {},
     "source": [
      "I have discussed parameter calibration in a couple of my earlier posts. In this post I want to show how you can use QuantLib Python and Scipy to do parameter calibration. In order to run this, you will need to build the QuantLib github master and the latest SWIG code with [my pull request](https://github.com/lballabio/QuantLib-SWIG/pull/26). Alternately, this should get merged into version 1.9 and you should be able to use it when it is released. This pull request adds some of the moethods of the `CalibratedModel` such as `calibrationError` that we will use in calibrating models using Scipy. QuantLib's strength is all financial models. Scipy's strength is all the solvers and numerical methods. So here, I will show you how you can make the best of both worlds. We will start as usual by importing the modules."
     ]
    },
    {
     "cell_type": "code",
     "collapsed": false,
     "input": [
      "import QuantLib as ql\n",
      "from math import pow, sqrt\n",
      "import numpy as np\n",
      "from scipy.optimize import root"
     ],
     "language": "python",
     "metadata": {},
     "outputs": [],
     "prompt_number": 1
    },
    {
     "cell_type": "markdown",
     "metadata": {},
     "source": [
      "Let's construct some of the basic dependencies such as the yield and dividend term structures. "
     ]
    },
    {
     "cell_type": "code",
     "collapsed": false,
     "input": [
      "day_count = ql.Actual365Fixed()\n",
      "calendar = ql.UnitedStates()\n",
      "calculation_date = ql.Date(6, 11, 2015)\n",
      "\n",
      "spot = 659.37\n",
      "ql.Settings.instance().evaluationDate = calculation_date\n",
      "\n",
      "risk_free_rate = 0.01\n",
      "dividend_rate = 0.0\n",
      "yield_ts = ql.YieldTermStructureHandle(\n",
      "    ql.FlatForward(calculation_date, risk_free_rate, day_count))\n",
      "dividend_ts = ql.YieldTermStructureHandle(\n",
      "    ql.FlatForward(calculation_date, dividend_rate, day_count))"
     ],
     "language": "python",
     "metadata": {},
     "outputs": [],
     "prompt_number": 2
    },
    {
     "cell_type": "markdown",
     "metadata": {},
     "source": [
      "Following is a sample grid of volatilities for different expiration and strikes."
     ]
    },
    {
     "cell_type": "code",
     "collapsed": false,
     "input": [
      "expiration_dates = [ql.Date(6,12,2015), ql.Date(6,1,2016), ql.Date(6,2,2016),\n",
      "                    ql.Date(6,3,2016), ql.Date(6,4,2016), ql.Date(6,5,2016), \n",
      "                    ql.Date(6,6,2016), ql.Date(6,7,2016), ql.Date(6,8,2016),\n",
      "                    ql.Date(6,9,2016), ql.Date(6,10,2016), ql.Date(6,11,2016), \n",
      "                    ql.Date(6,12,2016), ql.Date(6,1,2017), ql.Date(6,2,2017),\n",
      "                    ql.Date(6,3,2017), ql.Date(6,4,2017), ql.Date(6,5,2017), \n",
      "                    ql.Date(6,6,2017), ql.Date(6,7,2017), ql.Date(6,8,2017),\n",
      "                    ql.Date(6,9,2017), ql.Date(6,10,2017), ql.Date(6,11,2017)]\n",
      "strikes = [527.50, 560.46, 593.43, 626.40, 659.37, 692.34, 725.31, 758.28]\n",
      "data = [\n",
      "[0.37819, 0.34177, 0.30394, 0.27832, 0.26453, 0.25916, 0.25941, 0.26127],\n",
      "[0.3445, 0.31769, 0.2933, 0.27614, 0.26575, 0.25729, 0.25228, 0.25202],\n",
      "[0.37419, 0.35372, 0.33729, 0.32492, 0.31601, 0.30883, 0.30036, 0.29568],\n",
      "[0.37498, 0.35847, 0.34475, 0.33399, 0.32715, 0.31943, 0.31098, 0.30506],\n",
      "[0.35941, 0.34516, 0.33296, 0.32275, 0.31867, 0.30969, 0.30239, 0.29631],\n",
      "[0.35521, 0.34242, 0.33154, 0.3219, 0.31948, 0.31096, 0.30424, 0.2984],\n",
      "[0.35442, 0.34267, 0.33288, 0.32374, 0.32245, 0.31474, 0.30838, 0.30283],\n",
      "[0.35384, 0.34286, 0.33386, 0.32507, 0.3246, 0.31745, 0.31135, 0.306],\n",
      "[0.35338, 0.343, 0.33464, 0.32614, 0.3263, 0.31961, 0.31371, 0.30852],\n",
      "[0.35301, 0.34312, 0.33526, 0.32698, 0.32766, 0.32132, 0.31558, 0.31052],\n",
      "[0.35272, 0.34322, 0.33574, 0.32765, 0.32873, 0.32267, 0.31705, 0.31209],\n",
      "[0.35246, 0.3433, 0.33617, 0.32822, 0.32965, 0.32383, 0.31831, 0.31344],\n",
      "[0.35226, 0.34336, 0.33651, 0.32869, 0.3304, 0.32477, 0.31934, 0.31453],\n",
      "[0.35207, 0.34342, 0.33681, 0.32911, 0.33106, 0.32561, 0.32025, 0.3155],\n",
      "[0.35171, 0.34327, 0.33679, 0.32931, 0.3319, 0.32665, 0.32139, 0.31675],\n",
      "[0.35128, 0.343, 0.33658, 0.32937, 0.33276, 0.32769, 0.32255, 0.31802],\n",
      "[0.35086, 0.34274, 0.33637, 0.32943, 0.3336, 0.32872, 0.32368, 0.31927],\n",
      "[0.35049, 0.34252, 0.33618, 0.32948, 0.33432, 0.32959, 0.32465, 0.32034],\n",
      "[0.35016, 0.34231, 0.33602, 0.32953, 0.33498, 0.3304, 0.32554, 0.32132],\n",
      "[0.34986, 0.34213, 0.33587, 0.32957, 0.33556, 0.3311, 0.32631, 0.32217],\n",
      "[0.34959, 0.34196, 0.33573, 0.32961, 0.3361, 0.33176, 0.32704, 0.32296],\n",
      "[0.34934, 0.34181, 0.33561, 0.32964, 0.33658, 0.33235, 0.32769, 0.32368],\n",
      "[0.34912, 0.34167, 0.3355, 0.32967, 0.33701, 0.33288, 0.32827, 0.32432],\n",
      "[0.34891, 0.34154, 0.33539, 0.3297, 0.33742, 0.33337, 0.32881, 0.32492]]"
     ],
     "language": "python",
     "metadata": {},
     "outputs": [],
     "prompt_number": 3
    },
    {
     "cell_type": "markdown",
     "metadata": {},
     "source": [
      "I have abstracted some of the repetitive methods into python functions. The function `setup_helpers` will construct the Heston model helpers and returns an array of these objects. The `cost_function_generator` is a method to set the cost function and will be used by the Scipy modules. The `calibration_report` lets us evaluate the quality of the fit. The `setup_model` method initializes the `HestonModel` and the `AnalyticHestonEngine` prior to calibration."
     ]
    },
    {
     "cell_type": "code",
     "collapsed": false,
     "input": [
      "def setup_helpers(engine, expiration_dates, strikes, \n",
      "                  data, ref_date, spot, yield_ts, \n",
      "                  dividend_ts):\n",
      "    heston_helpers = []\n",
      "    grid_data = []\n",
      "    for i, date in enumerate(expiration_dates):\n",
      "        for j, s in enumerate(strikes):\n",
      "            t = (date - ref_date )\n",
      "            p = ql.Period(t, ql.Days)\n",
      "            vols = data[i][j]\n",
      "            helper = ql.HestonModelHelper(\n",
      "                p, calendar, spot, s, \n",
      "                ql.QuoteHandle(ql.SimpleQuote(vols)),\n",
      "                yield_ts, dividend_ts)\n",
      "            helper.setPricingEngine(engine)\n",
      "            heston_helpers.append(helper)\n",
      "            grid_data.append((date, s))\n",
      "    return heston_helpers, grid_data\n",
      "\n",
      "def cost_function_generator(model, helpers,norm=False):\n",
      "    def cost_function(params):\n",
      "        params_ = ql.Array(list(params))\n",
      "        model.setParams(params_)\n",
      "        error = [h.calibrationError() for h in helpers]\n",
      "        if norm:\n",
      "            return np.sqrt(np.sum(np.abs(error)))\n",
      "        else:\n",
      "            return error\n",
      "    return cost_function\n",
      "\n",
      "def calibration_report(helpers, grid_data, detailed=False):\n",
      "    avg = 0.0\n",
      "    if detailed:\n",
      "        print \"%15s %25s %15s %15s %20s\" % (\n",
      "            \"Strikes\", \"Expiry\", \"Market Value\", \n",
      "             \"Model Value\", \"Relative Error (%)\")\n",
      "        print \"=\"*100\n",
      "    for i, opt in enumerate(helpers):\n",
      "        err = (opt.modelValue()/opt.marketValue() - 1.0)\n",
      "        date,strike = grid_data[i]\n",
      "        if detailed:\n",
      "            print \"%15.2f %25s %14.5f %15.5f %20.7f \" % (\n",
      "                strike, str(date), opt.marketValue(), \n",
      "                opt.modelValue(), \n",
      "                100.0*(opt.modelValue()/opt.marketValue() - 1.0))\n",
      "        avg += abs(err)\n",
      "    avg = avg*100.0/len(helpers)\n",
      "    if detailed: print \"-\"*100\n",
      "    summary = \"Average Abs Error (%%) : %5.9f\" % (avg)\n",
      "    print summary\n",
      "    return avg\n",
      "    \n",
      "def setup_model(_yield_ts, _dividend_ts, _spot, \n",
      "                init_condition=(0.02,0.2,0.5,0.1,0.01)):\n",
      "    theta, kappa, sigma, rho, v0 = init_condition\n",
      "    process = ql.HestonProcess(_yield_ts, _dividend_ts, \n",
      "                           ql.QuoteHandle(ql.SimpleQuote(_spot)), \n",
      "                           v0, kappa, theta, sigma, rho)\n",
      "    model = ql.HestonModel(process)\n",
      "    engine = ql.AnalyticHestonEngine(model) \n",
      "    return model, engine\n",
      "summary= []"
     ],
     "language": "python",
     "metadata": {},
     "outputs": [],
     "prompt_number": 4
    },
    {
     "cell_type": "markdown",
     "metadata": {},
     "source": [
      "### Comparing Different Calibration Methods\n",
      "\n",
      "Solvers such as Levenberg-Marquardt find local minimas and are very sensitive to the initial conditions. Depending on the starting conditions for your solver, you could end up with a good set of parameters with good convergence or not so good set of parameters. We will look at two initial conditions for different solvers and see how the local minima solvers perform. We will compare this with differential evolution that looks for global minima. \n",
      "\n",
      "We will setup the Heston model with two different initial conditions:\n",
      "    - theta, kappa, sigma, rho, v0 = (0.02, 0.2, 0.5, 0.1, 0.01)\n",
      "    - theta, kappa, sigma, rho, v0 = (0.07, 0.5, 0.1, 0.1, 0.1)"
     ]
    },
    {
     "cell_type": "markdown",
     "metadata": {},
     "source": [
      "#### Local Solvers\n",
      "##### Using QuantLib Levenberg-Marquardt Solver"
     ]
    },
    {
     "cell_type": "markdown",
     "metadata": {},
     "source": [
      "As a first step, let's look at QuantLib's Levenberg-Marquardt solver. The initial condition considered is `theta, kappa, sigma, rho, v0 = (0.02,0.2,0.5,0.1,0.01)`"
     ]
    },
    {
     "cell_type": "code",
     "collapsed": false,
     "input": [
      "model1, engine1 = setup_model(\n",
      "    yield_ts, dividend_ts, spot, \n",
      "    init_condition=(0.02,0.2,0.5,0.1,0.01))\n",
      "heston_helpers1, grid_data1 = setup_helpers(\n",
      "    engine1, expiration_dates, strikes, data, \n",
      "    calculation_date, spot, yield_ts, dividend_ts\n",
      ")\n",
      "initial_condition = list(model1.params())"
     ],
     "language": "python",
     "metadata": {},
     "outputs": [],
     "prompt_number": 5
    },
    {
     "cell_type": "code",
     "collapsed": false,
     "input": [
      "%%time\n",
      "lm = ql.LevenbergMarquardt(1e-8, 1e-8, 1e-8)\n",
      "model1.calibrate(heston_helpers1, lm, \n",
      "                 ql.EndCriteria(500, 300, 1.0e-8,1.0e-8, 1.0e-8))\n",
      "theta, kappa, sigma, rho, v0 = model1.params()\n",
      "print \"theta = %f, kappa = %f, sigma = %f, rho = %f, v0 = %f\" % \\\n",
      "    (theta, kappa, sigma, rho, v0)\n",
      "error = calibration_report(heston_helpers1, grid_data1)\n",
      "summary.append([\"QL LM1\", error] + list(model1.params()))"
     ],
     "language": "python",
     "metadata": {},
     "outputs": [
      {
       "output_type": "stream",
       "stream": "stdout",
       "text": [
        "theta = 0.125748, kappa = 7.915000, sigma = 1.887854, rho = -0.364942, v0 = 0.055397\n",
        "Average Abs Error (%) : 3.015268051\n",
        "CPU times: user 4.7 s, sys: 0 ns, total: 4.7 s\n",
        "Wall time: 4.7 s\n"
       ]
      }
     ],
     "prompt_number": 6
    },
    {
     "cell_type": "markdown",
     "metadata": {},
     "source": [
      "Methods like Levenberg-Marquardt solve for local minimas and do not search for global minimas. The solver is very sensitive to the initial conditions. Let's set a different set of initial conditions, and see what happens below. The initial condition considered is `theta, kappa, sigma, rho, v0 = (0.07,0.5,0.1,0.1,0.1)`"
     ]
    },
    {
     "cell_type": "code",
     "collapsed": false,
     "input": [
      "model1, engine1 = setup_model(\n",
      "    yield_ts, dividend_ts, spot, \n",
      "    init_condition=(0.07,0.5,0.1,0.1,0.1))\n",
      "heston_helpers1, grid_data1 = setup_helpers(\n",
      "    engine1, expiration_dates, strikes, data, \n",
      "    calculation_date, spot, yield_ts, dividend_ts\n",
      ")\n",
      "initial_condition = list(model1.params())"
     ],
     "language": "python",
     "metadata": {},
     "outputs": [],
     "prompt_number": 7
    },
    {
     "cell_type": "code",
     "collapsed": false,
     "input": [
      "%%time\n",
      "lm = ql.LevenbergMarquardt(1e-8, 1e-8, 1e-8)\n",
      "model1.calibrate(heston_helpers1, lm, \n",
      "                 ql.EndCriteria(500, 300, 1.0e-8,1.0e-8, 1.0e-8))\n",
      "theta, kappa, sigma, rho, v0 = model1.params()\n",
      "print \"theta = %f, kappa = %f, sigma = %f, rho = %f, v0 = %f\" % \\\n",
      "    (theta, kappa, sigma, rho, v0)\n",
      "error = calibration_report(heston_helpers1, grid_data1)\n",
      "summary.append([\"QL LM2\", error] + list(model1.params()))"
     ],
     "language": "python",
     "metadata": {},
     "outputs": [
      {
       "output_type": "stream",
       "stream": "stdout",
       "text": [
        "theta = 0.084523, kappa = 0.000000, sigma = 0.132289, rho = -0.514278, v0 = 0.099928\n",
        "Average Abs Error (%) : 11.007433024\n",
        "CPU times: user 5.15 s, sys: 0 ns, total: 5.15 s\n",
        "Wall time: 5.15 s\n"
       ]
      }
     ],
     "prompt_number": 8
    },
    {
     "cell_type": "markdown",
     "metadata": {},
     "source": [
      "We see that the solver produces a 11% average of absolute error. This is not particularly great."
     ]
    },
    {
     "cell_type": "markdown",
     "metadata": {},
     "source": [
      "##### Using Scipy Levenberg-Marquardt Solver"
     ]
    },
    {
     "cell_type": "markdown",
     "metadata": {},
     "source": [
      "Here we are going to try the same exercise but using Scipy. Scipy has far more optimization, minimization and root finding algorithms that are very robust. So by leveraging Scipy, we can take advantage of this rich set of options at hand."
     ]
    },
    {
     "cell_type": "code",
     "collapsed": false,
     "input": [
      "model2, engine2 = setup_model(\n",
      "    yield_ts, dividend_ts, spot, \n",
      "    init_condition=(0.02,0.2,0.5,0.1,0.01))\n",
      "heston_helpers2, grid_data2 = setup_helpers(\n",
      "    engine2, expiration_dates, strikes, data,\n",
      "    calculation_date, spot, yield_ts, dividend_ts\n",
      ")\n",
      "initial_condition = list(model2.params())"
     ],
     "language": "python",
     "metadata": {},
     "outputs": [],
     "prompt_number": 9
    },
    {
     "cell_type": "code",
     "collapsed": false,
     "input": [
      "%%time\n",
      "cost_function = cost_function_generator(model2, heston_helpers2)\n",
      "sol = root(cost_function, initial_condition, method='lm')\n",
      "theta, kappa, sigma, rho, v0 = model2.params()\n",
      "print \"theta = %f, kappa = %f, sigma = %f, rho = %f, v0 = %f\" % \\\n",
      "    (theta, kappa, sigma, rho, v0)\n",
      "error = calibration_report(heston_helpers2, grid_data2)\n",
      "summary.append([\"Scipy LM1\", error] + list(model2.params()))"
     ],
     "language": "python",
     "metadata": {},
     "outputs": [
      {
       "output_type": "stream",
       "stream": "stdout",
       "text": [
        "theta = 0.125747, kappa = 7.915687, sigma = 1.887934, rho = -0.364944, v0 = 0.055394\n",
        "Average Abs Error (%) : 3.015252651\n",
        "CPU times: user 4.58 s, sys: 36 ms, total: 4.61 s\n",
        "Wall time: 4.57 s\n"
       ]
      }
     ],
     "prompt_number": 10
    },
    {
     "cell_type": "markdown",
     "metadata": {},
     "source": [
      "The solution for this particular case seems to be fairly robust. Both solvers (QuantLib and Scipy) seem to have landed on more or less the same solution for this particular initial condition. Let's see how Scipy does for the second initial condition considered above -  `theta, kappa, sigma, rho, v0 = (0.07,0.5,0.1,0.1,0.1)`"
     ]
    },
    {
     "cell_type": "code",
     "collapsed": false,
     "input": [
      "model2, engine2 = setup_model(\n",
      "    yield_ts, dividend_ts, spot,\n",
      "    init_condition=(0.07,0.5,0.1,0.1,0.1))\n",
      "heston_helpers2, grid_data2 = setup_helpers(\n",
      "    engine2, expiration_dates, strikes, data,\n",
      "    calculation_date, spot, yield_ts, dividend_ts\n",
      ")\n",
      "initial_condition = list(model2.params())"
     ],
     "language": "python",
     "metadata": {},
     "outputs": [],
     "prompt_number": 11
    },
    {
     "cell_type": "code",
     "collapsed": false,
     "input": [
      "%%time\n",
      "cost_function = cost_function_generator(model2, heston_helpers2)\n",
      "sol = root(cost_function, initial_condition, method='lm')\n",
      "theta, kappa, sigma, rho, v0 = model2.params()\n",
      "print \"theta = %f, kappa = %f, sigma = %f, rho = %f, v0 = %f\" % \\\n",
      "    (theta, kappa, sigma, rho, v0)\n",
      "error = calibration_report(heston_helpers2, grid_data2)\n",
      "summary.append([\"Scipy LM2\", error] + list(model2.params()))"
     ],
     "language": "python",
     "metadata": {},
     "outputs": [
      {
       "output_type": "stream",
       "stream": "stdout",
       "text": [
        "theta = 0.048184, kappa = -0.548903, sigma = 0.197958, rho = -0.999547, v0 = 0.090571\n",
        "Average Abs Error (%) : 7.019499509\n",
        "CPU times: user 19.8 s, sys: 88 ms, total: 19.8 s\n",
        "Wall time: 19.5 s\n"
       ]
      }
     ],
     "prompt_number": 12
    },
    {
     "cell_type": "markdown",
     "metadata": {},
     "source": [
      "For this particular case, Scipy solver has performed significantly better. It would be inappropriate to make loud claims about Scipy's superiority based on one observation. Perhaps this calls for a more detailed study for later."
     ]
    },
    {
     "cell_type": "markdown",
     "metadata": {},
     "source": [
      "##### Using Least Squares Method\n",
      "If you want to use a simpler approach like least squares, you can do that with Scipy. Here is how you would use it."
     ]
    },
    {
     "cell_type": "code",
     "collapsed": false,
     "input": [
      "from scipy.optimize import least_squares"
     ],
     "language": "python",
     "metadata": {},
     "outputs": [],
     "prompt_number": 13
    },
    {
     "cell_type": "code",
     "collapsed": false,
     "input": [
      "model3, engine3 = setup_model(\n",
      "    yield_ts, dividend_ts, spot, \n",
      "    init_condition=(0.02,0.2,0.5,0.1,0.01))\n",
      "heston_helpers3, grid_data3 = setup_helpers(\n",
      "    engine3, expiration_dates, strikes, data,\n",
      "    calculation_date, spot, yield_ts, dividend_ts\n",
      ")\n",
      "initial_condition = list(model3.params())"
     ],
     "language": "python",
     "metadata": {},
     "outputs": [],
     "prompt_number": 14
    },
    {
     "cell_type": "code",
     "collapsed": false,
     "input": [
      "%%time\n",
      "cost_function = cost_function_generator(model3, heston_helpers3)\n",
      "sol = least_squares(cost_function, initial_condition)\n",
      "theta, kappa, sigma, rho, v0 = model3.params()\n",
      "print \"theta = %f, kappa = %f, sigma = %f, rho = %f, v0 = %f\" % \\\n",
      "    (theta, kappa, sigma, rho, v0)\n",
      "error = calibration_report(heston_helpers3, grid_data3)\n",
      "summary.append([\"Scipy LS1\", error] + list(model3.params()))"
     ],
     "language": "python",
     "metadata": {},
     "outputs": [
      {
       "output_type": "stream",
       "stream": "stdout",
       "text": [
        "theta = 0.125747, kappa = 7.915814, sigma = 1.887949, rho = -0.364944, v0 = 0.055394\n",
        "Average Abs Error (%) : 3.015251175\n",
        "CPU times: user 4.32 s, sys: 20 ms, total: 4.34 s\n",
        "Wall time: 4.32 s\n"
       ]
      }
     ],
     "prompt_number": 15
    },
    {
     "cell_type": "markdown",
     "metadata": {},
     "source": [
      "With the second initial condition:"
     ]
    },
    {
     "cell_type": "code",
     "collapsed": false,
     "input": [
      "model3, engine3 = setup_model(\n",
      "    yield_ts, dividend_ts, spot, \n",
      "    init_condition=(0.07,0.5,0.1,0.1,0.1))\n",
      "heston_helpers3, grid_data3 = setup_helpers(\n",
      "    engine3, expiration_dates, strikes, data,\n",
      "    calculation_date, spot, yield_ts, dividend_ts\n",
      ")\n",
      "initial_condition = list(model3.params())"
     ],
     "language": "python",
     "metadata": {},
     "outputs": [],
     "prompt_number": 16
    },
    {
     "cell_type": "code",
     "collapsed": false,
     "input": [
      "%%time\n",
      "cost_function = cost_function_generator(model3, heston_helpers3)\n",
      "sol = least_squares(cost_function, initial_condition)\n",
      "theta, kappa, sigma, rho, v0 = model3.params()\n",
      "print \"theta = %f, kappa = %f, sigma = %f, rho = %f, v0 = %f\" % \\\n",
      "    (theta, kappa, sigma, rho, v0)\n",
      "error = calibration_report(heston_helpers3, grid_data3)\n",
      "summary.append([\"Scipy LS2\", error] + list(model3.params()))"
     ],
     "language": "python",
     "metadata": {},
     "outputs": [
      {
       "output_type": "stream",
       "stream": "stdout",
       "text": [
        "theta = 3.136774, kappa = 0.000005, sigma = -0.000245, rho = -0.000010, v0 = 1.597904\n",
        "Average Abs Error (%) : 5.096414042\n",
        "CPU times: user 27.1 s, sys: 16 ms, total: 27.1 s\n",
        "Wall time: 27.1 s\n"
       ]
      }
     ],
     "prompt_number": 17
    },
    {
     "cell_type": "markdown",
     "metadata": {},
     "source": [
      "#### Global Solvers\n",
      "##### Using Differential Evolution"
     ]
    },
    {
     "cell_type": "markdown",
     "metadata": {},
     "source": [
      "The above methods are more suited to finding local minimas. One method that makes an attempt at searching for global minima is the differential evolution. Both QuantLib and Scipy have implementations of this method. Scipy however has a lot more bells and whistles to tune and calibrate the methodology. Let's take a look at the Scipy's `differential_evolution` methodology."
     ]
    },
    {
     "cell_type": "code",
     "collapsed": false,
     "input": [
      "from scipy.optimize import differential_evolution"
     ],
     "language": "python",
     "metadata": {},
     "outputs": [],
     "prompt_number": 18
    },
    {
     "cell_type": "code",
     "collapsed": false,
     "input": [
      "model4, engine4 = setup_model(yield_ts, dividend_ts, spot)\n",
      "heston_helpers4, grid_data4 = setup_helpers(\n",
      "    engine4, expiration_dates, strikes, data,\n",
      "    calculation_date, spot, yield_ts, dividend_ts\n",
      ")\n",
      "initial_condition = list(model4.params())\n",
      "bounds = [(0,1),(0.01,15), (0.01,1.), (-1,1), (0,1.0) ]"
     ],
     "language": "python",
     "metadata": {},
     "outputs": [],
     "prompt_number": 19
    },
    {
     "cell_type": "code",
     "collapsed": false,
     "input": [
      "%%time\n",
      "cost_function = cost_function_generator(\n",
      "    model4, heston_helpers4, norm=True)\n",
      "sol = differential_evolution(cost_function, bounds, maxiter=20)\n",
      "theta, kappa, sigma, rho, v0 = model4.params()\n",
      "print \"theta = %f, kappa = %f, sigma = %f, rho = %f, v0 = %f\" % \\\n",
      "    (theta, kappa, sigma, rho, v0)\n",
      "error = calibration_report(heston_helpers4, grid_data4)\n",
      "summary.append([\"Scipy DE1\", error] + list(model4.params()))"
     ],
     "language": "python",
     "metadata": {},
     "outputs": [
      {
       "output_type": "stream",
       "stream": "stdout",
       "text": [
        "theta = 0.121969, kappa = 5.296890, sigma = 0.916644, rho = -0.616556, v0 = 0.079668\n",
        "Average Abs Error (%) : 2.874168106\n",
        "CPU times: user 1min 19s, sys: 164 ms, total: 1min 20s\n",
        "Wall time: 1min 19s\n"
       ]
      }
     ],
     "prompt_number": 20
    },
    {
     "cell_type": "markdown",
     "metadata": {},
     "source": [
      "In the above example, I am setting the variable `maxiter` in order to limit the time taken. In production scenarios, you may want to try a larger number or not provide any value and default to 1000. This can help search a larger area of the parameter space."
     ]
    },
    {
     "cell_type": "code",
     "collapsed": false,
     "input": [
      "model4, engine4 = setup_model(yield_ts, dividend_ts, spot)\n",
      "heston_helpers4, grid_data4 = setup_helpers(\n",
      "    engine4, expiration_dates, strikes, data,\n",
      "    calculation_date, spot, yield_ts, dividend_ts\n",
      ")\n",
      "initial_condition = list(model4.params())\n",
      "bounds = [(0,1),(0.01,15), (0.01,1.), (-1,1), (0,1.0) ]"
     ],
     "language": "python",
     "metadata": {},
     "outputs": [],
     "prompt_number": 21
    },
    {
     "cell_type": "code",
     "collapsed": false,
     "input": [
      "%%time\n",
      "cost_function = cost_function_generator(\n",
      "    model4, heston_helpers4, norm=True)\n",
      "sol = differential_evolution(cost_function, bounds, maxiter=20)\n",
      "theta, kappa, sigma, rho, v0 = model4.params()\n",
      "print \"theta = %f, kappa = %f, sigma = %f, rho = %f, v0 = %f\" % \\\n",
      "    (theta, kappa, sigma, rho, v0)\n",
      "error = calibration_report(heston_helpers4, grid_data4)\n",
      "summary.append([\"Scipy DE2\", error] + list(model4.params()))"
     ],
     "language": "python",
     "metadata": {},
     "outputs": [
      {
       "output_type": "stream",
       "stream": "stdout",
       "text": [
        "theta = 0.121055, kappa = 4.570230, sigma = 0.509309, rho = -0.987312, v0 = 0.078070\n",
        "Average Abs Error (%) : 2.938233064\n",
        "CPU times: user 1min 11s, sys: 172 ms, total: 1min 12s\n",
        "Wall time: 1min 11s\n"
       ]
      }
     ],
     "prompt_number": 22
    },
    {
     "cell_type": "markdown",
     "metadata": {},
     "source": [
      "##### Basin Hopping Algorithm\n",
      "Here we will use the Basin Hopping (annealing like) method to solve for the parameters. "
     ]
    },
    {
     "cell_type": "code",
     "collapsed": false,
     "input": [
      "from scipy.optimize import basinhopping"
     ],
     "language": "python",
     "metadata": {},
     "outputs": [],
     "prompt_number": 23
    },
    {
     "cell_type": "code",
     "collapsed": false,
     "input": [
      "class MyBounds(object):\n",
      "     def __init__(self, xmin=[0.,0.01,0.01,-1,0], xmax=[1,15,1,1,1.0] ):\n",
      "         self.xmax = np.array(xmax)\n",
      "         self.xmin = np.array(xmin)\n",
      "     def __call__(self, **kwargs):\n",
      "         x = kwargs[\"x_new\"]\n",
      "         tmax = bool(np.all(x <= self.xmax))\n",
      "         tmin = bool(np.all(x >= self.xmin))\n",
      "         return tmax and tmin\n",
      "bounds = [(0,1),(0.01,15), (0.01,1.), (-1,1), (0,1.0) ]"
     ],
     "language": "python",
     "metadata": {},
     "outputs": [],
     "prompt_number": 24
    },
    {
     "cell_type": "code",
     "collapsed": false,
     "input": [
      "model5, engine5 = setup_model(\n",
      "    yield_ts, dividend_ts, spot,\n",
      "    init_condition=(0.02,0.2,0.5,0.1,0.01))\n",
      "heston_helpers5, grid_data5 = setup_helpers(\n",
      "    engine5, expiration_dates, strikes, data,\n",
      "    calculation_date, spot, yield_ts, dividend_ts\n",
      ")\n",
      "initial_condition = list(model5.params())"
     ],
     "language": "python",
     "metadata": {},
     "outputs": [],
     "prompt_number": 25
    },
    {
     "cell_type": "code",
     "collapsed": false,
     "input": [
      "%%time\n",
      "mybound = MyBounds()\n",
      "minimizer_kwargs = {\"method\": \"L-BFGS-B\", \"bounds\": bounds }\n",
      "cost_function = cost_function_generator(\n",
      "    model5, heston_helpers5, norm=True)\n",
      "sol = basinhopping(cost_function, initial_condition, niter=3,\n",
      "                   minimizer_kwargs=minimizer_kwargs,\n",
      "                   stepsize=0.005,\n",
      "                   accept_test=mybound)\n",
      "theta, kappa, sigma, rho, v0 = model5.params()\n",
      "print \"theta = %f, kappa = %f, sigma = %f, rho = %f, v0 = %f\" % \\\n",
      "    (theta, kappa, sigma, rho, v0)\n",
      "error = calibration_report(heston_helpers5, grid_data5)\n",
      "summary.append([\"Scipy BH1\", error] + list(model5.params()))"
     ],
     "language": "python",
     "metadata": {},
     "outputs": [
      {
       "output_type": "stream",
       "stream": "stdout",
       "text": [
        "theta = 0.123393, kappa = 5.075286, sigma = 0.994216, rho = -0.566899, v0 = 0.079338\n",
        "Average Abs Error (%) : 2.851405010\n",
        "CPU times: user 1min 19s, sys: 284 ms, total: 1min 19s\n",
        "Wall time: 1min 18s\n"
       ]
      }
     ],
     "prompt_number": 26
    },
    {
     "cell_type": "code",
     "collapsed": false,
     "input": [
      "model5, engine5 = setup_model(\n",
      "    yield_ts, dividend_ts, spot,\n",
      "    init_condition=(0.07,0.5,0.1,0.1,0.1))\n",
      "heston_helpers5, grid_data5 = setup_helpers(\n",
      "    engine5, expiration_dates, strikes, data,\n",
      "    calculation_date, spot, yield_ts, dividend_ts\n",
      ")\n",
      "initial_condition = list(model5.params())"
     ],
     "language": "python",
     "metadata": {},
     "outputs": [],
     "prompt_number": 27
    },
    {
     "cell_type": "code",
     "collapsed": false,
     "input": [
      "%%time\n",
      "mybound = MyBounds()\n",
      "minimizer_kwargs = {\"method\": \"L-BFGS-B\", \"bounds\": bounds}\n",
      "cost_function = cost_function_generator(\n",
      "    model5, heston_helpers5, norm=True)\n",
      "sol = basinhopping(cost_function, initial_condition, niter=3,\n",
      "                   minimizer_kwargs=minimizer_kwargs,\n",
      "                   stepsize=0.005,\n",
      "                   accept_test=mybound)\n",
      "theta, kappa, sigma, rho, v0 = model5.params()\n",
      "print \"theta = %f, kappa = %f, sigma = %f, rho = %f, v0 = %f\" % \\\n",
      "    (theta, kappa, sigma, rho, v0)\n",
      "error = calibration_report(heston_helpers5, grid_data5)\n",
      "summary.append([\"Scipy BH2\", error] + list(model5.params()))"
     ],
     "language": "python",
     "metadata": {},
     "outputs": [
      {
       "output_type": "stream",
       "stream": "stdout",
       "text": [
        "theta = 0.122777, kappa = 4.057845, sigma = 0.598006, rho = -0.792271, v0 = 0.079368\n",
        "Average Abs Error (%) : 2.897223702\n",
        "CPU times: user 1min 32s, sys: 304 ms, total: 1min 32s\n",
        "Wall time: 1min 31s\n"
       ]
      }
     ],
     "prompt_number": 28
    },
    {
     "cell_type": "markdown",
     "metadata": {},
     "source": [
      "#### Summary\n",
      "Here is a summary of all the results with the calibration error overall, and the respective parameters. All the local minima methods give parameters that are very different based on the initial condition that we start with. This is different in contrary with the global minimization methods that all end up in more or less the same proximity of each other.\n",
      "\n",
      "The global solvers such as Differential Evolution and Basin Hopping are capable of finding the global minima and it is sometimes a question of computation resources. Here, I have lower \"iterations\" set for these routines for faster solving. Even with such a short threshold, we get fairly good solution set."
     ]
    },
    {
     "cell_type": "code",
     "collapsed": false,
     "input": [
      "from pandas import DataFrame\n",
      "DataFrame(\n",
      "    summary,\n",
      "    columns=[\"Name\", \"Avg Abs Error\",\"Theta\", \"Kappa\", \"Sigma\", \"Rho\", \"V0\"],\n",
      "    index=['']*len(summary))"
     ],
     "language": "python",
     "metadata": {},
     "outputs": [
      {
       "html": [
        "<div style=\"max-width:1500px;overflow:auto;\">\n",
        "<table border=\"1\" class=\"dataframe\">\n",
        "  <thead>\n",
        "    <tr style=\"text-align: right;\">\n",
        "      <th></th>\n",
        "      <th>Name</th>\n",
        "      <th>Avg Abs Error</th>\n",
        "      <th>Theta</th>\n",
        "      <th>Kappa</th>\n",
        "      <th>Sigma</th>\n",
        "      <th>Rho</th>\n",
        "      <th>V0</th>\n",
        "    </tr>\n",
        "  </thead>\n",
        "  <tbody>\n",
        "    <tr>\n",
        "      <th></th>\n",
        "      <td>QL LM1</td>\n",
        "      <td>3.015268</td>\n",
        "      <td>0.125748</td>\n",
        "      <td>7.915000e+00</td>\n",
        "      <td>1.887854</td>\n",
        "      <td>-0.364942</td>\n",
        "      <td>0.055397</td>\n",
        "    </tr>\n",
        "    <tr>\n",
        "      <th></th>\n",
        "      <td>QL LM2</td>\n",
        "      <td>11.007433</td>\n",
        "      <td>0.084523</td>\n",
        "      <td>1.625740e-08</td>\n",
        "      <td>0.132289</td>\n",
        "      <td>-0.514278</td>\n",
        "      <td>0.099928</td>\n",
        "    </tr>\n",
        "    <tr>\n",
        "      <th></th>\n",
        "      <td>Scipy LM1</td>\n",
        "      <td>3.015253</td>\n",
        "      <td>0.125747</td>\n",
        "      <td>7.915687e+00</td>\n",
        "      <td>1.887934</td>\n",
        "      <td>-0.364944</td>\n",
        "      <td>0.055394</td>\n",
        "    </tr>\n",
        "    <tr>\n",
        "      <th></th>\n",
        "      <td>Scipy LM2</td>\n",
        "      <td>7.019500</td>\n",
        "      <td>0.048184</td>\n",
        "      <td>-5.489029e-01</td>\n",
        "      <td>0.197958</td>\n",
        "      <td>-0.999547</td>\n",
        "      <td>0.090571</td>\n",
        "    </tr>\n",
        "    <tr>\n",
        "      <th></th>\n",
        "      <td>Scipy LS1</td>\n",
        "      <td>3.015251</td>\n",
        "      <td>0.125747</td>\n",
        "      <td>7.915814e+00</td>\n",
        "      <td>1.887949</td>\n",
        "      <td>-0.364944</td>\n",
        "      <td>0.055394</td>\n",
        "    </tr>\n",
        "    <tr>\n",
        "      <th></th>\n",
        "      <td>Scipy LS2</td>\n",
        "      <td>5.096414</td>\n",
        "      <td>3.136774</td>\n",
        "      <td>4.896844e-06</td>\n",
        "      <td>-0.000245</td>\n",
        "      <td>-0.000010</td>\n",
        "      <td>1.597904</td>\n",
        "    </tr>\n",
        "    <tr>\n",
        "      <th></th>\n",
        "      <td>Scipy DE1</td>\n",
        "      <td>2.874168</td>\n",
        "      <td>0.121969</td>\n",
        "      <td>5.296890e+00</td>\n",
        "      <td>0.916644</td>\n",
        "      <td>-0.616556</td>\n",
        "      <td>0.079668</td>\n",
        "    </tr>\n",
        "    <tr>\n",
        "      <th></th>\n",
        "      <td>Scipy DE2</td>\n",
        "      <td>2.938233</td>\n",
        "      <td>0.121055</td>\n",
        "      <td>4.570230e+00</td>\n",
        "      <td>0.509309</td>\n",
        "      <td>-0.987312</td>\n",
        "      <td>0.078070</td>\n",
        "    </tr>\n",
        "    <tr>\n",
        "      <th></th>\n",
        "      <td>Scipy BH1</td>\n",
        "      <td>2.851405</td>\n",
        "      <td>0.123393</td>\n",
        "      <td>5.075286e+00</td>\n",
        "      <td>0.994216</td>\n",
        "      <td>-0.566899</td>\n",
        "      <td>0.079338</td>\n",
        "    </tr>\n",
        "    <tr>\n",
        "      <th></th>\n",
        "      <td>Scipy BH2</td>\n",
        "      <td>2.897224</td>\n",
        "      <td>0.122777</td>\n",
        "      <td>4.057845e+00</td>\n",
        "      <td>0.598006</td>\n",
        "      <td>-0.792271</td>\n",
        "      <td>0.079368</td>\n",
        "    </tr>\n",
        "  </tbody>\n",
        "</table>\n",
        "</div>"
       ],
       "metadata": {},
       "output_type": "pyout",
       "prompt_number": 29,
       "text": [
        "       Name  Avg Abs Error     Theta         Kappa     Sigma       Rho  \\\n",
        "     QL LM1       3.015268  0.125748  7.915000e+00  1.887854 -0.364942   \n",
        "     QL LM2      11.007433  0.084523  1.625740e-08  0.132289 -0.514278   \n",
        "  Scipy LM1       3.015253  0.125747  7.915687e+00  1.887934 -0.364944   \n",
        "  Scipy LM2       7.019500  0.048184 -5.489029e-01  0.197958 -0.999547   \n",
        "  Scipy LS1       3.015251  0.125747  7.915814e+00  1.887949 -0.364944   \n",
        "  Scipy LS2       5.096414  3.136774  4.896844e-06 -0.000245 -0.000010   \n",
        "  Scipy DE1       2.874168  0.121969  5.296890e+00  0.916644 -0.616556   \n",
        "  Scipy DE2       2.938233  0.121055  4.570230e+00  0.509309 -0.987312   \n",
        "  Scipy BH1       2.851405  0.123393  5.075286e+00  0.994216 -0.566899   \n",
        "  Scipy BH2       2.897224  0.122777  4.057845e+00  0.598006 -0.792271   \n",
        "\n",
        "        V0  \n",
        "  0.055397  \n",
        "  0.099928  \n",
        "  0.055394  \n",
        "  0.090571  \n",
        "  0.055394  \n",
        "  1.597904  \n",
        "  0.079668  \n",
        "  0.078070  \n",
        "  0.079338  \n",
        "  0.079368  "
       ]
      }
     ],
     "prompt_number": 29
    }
   ],
   "metadata": {}
  }
 ]
}