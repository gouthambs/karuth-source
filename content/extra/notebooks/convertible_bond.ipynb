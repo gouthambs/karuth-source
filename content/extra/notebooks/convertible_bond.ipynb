{
 "metadata": {
  "name": "",
  "signature": "sha256:6e8c1bc8ecbabc9cb2215dfc655ceaab7887c0a74c07f46e5cfed204fea0e23c"
 },
 "nbformat": 3,
 "nbformat_minor": 0,
 "worksheets": [
  {
   "cells": [
    {
     "cell_type": "markdown",
     "metadata": {},
     "source": [
      "# Convertible Fixed Coupon Bond\n",
      "[Goutham Balaraman](http://gouthamanbalaraman.com)"
     ]
    },
    {
     "cell_type": "code",
     "collapsed": false,
     "input": [
      "import QuantLib as ql"
     ],
     "language": "python",
     "metadata": {},
     "outputs": [],
     "prompt_number": 1
    },
    {
     "cell_type": "markdown",
     "metadata": {},
     "source": [
      "In this blog I will work through an example of valuing convertible bonds in QuantLib. Lets start by doing the usual setup of creating a `calculation_date` and setting it as the `evaluationDate`."
     ]
    },
    {
     "cell_type": "code",
     "collapsed": false,
     "input": [
      "calculation_date = ql.Date(9,1,2004)\n",
      "ql.Settings.instance().evaluationDate = calculation_date"
     ],
     "language": "python",
     "metadata": {},
     "outputs": [],
     "prompt_number": 2
    },
    {
     "cell_type": "markdown",
     "metadata": {},
     "source": [
      "One little quirk in the QuantLib convertible bond implementation is that there are places where the redemption amount is hard coded to `100`. So if you have conversion ratio evaluated as \n",
      "\\begin{eqnarray}\n",
      "Conversion\\ Ratio = \\frac{Redemption\\ Amount}{Conversion\\ Price}\n",
      "\\end{eqnarray}\n",
      "\n",
      "you will need to scale to an appropriate value with a redemption amount of `100`. For instance, vendors report conversion ratio with a redemption amount of 1000. The conversion ratio obtained this way should be divided by a factor of `10` to get the equivalent conversion ratio for use in the QuantLib calculations. This is a limitation right now (as of version 1.7), which can be fixed in the future.\n",
      "\n",
      "Following is the details of the convertible bond of interest."
     ]
    },
    {
     "cell_type": "code",
     "collapsed": false,
     "input": [
      "# St. Mary Land & Exploration Company \n",
      "# Bloomberg ticker: SM 5.75 03/15/22 \n",
      "\n",
      "redemption = 100.00\n",
      "face_amount = 100.0\n",
      "spot_price = 29.04\n",
      "conversion_price = 26.0\n",
      "conversion_ratio = 3.84615  # BBG quotes 38.4615; had to scale by a factor of 10\n",
      "\n",
      "issue_date = ql.Date(15,3,2002)        \n",
      "maturity_date = ql.Date(15,3,2022)\n",
      "\n",
      "settlement_days = 2\n",
      "calendar = ql.UnitedStates(ql.UnitedStates.GovernmentBond)\n",
      "coupon = 0.0575\n",
      "frequency = ql.Semiannual\n",
      "tenor = ql.Period(frequency)\n",
      "\n",
      "day_count = ql.Thirty360()\n",
      "accrual_convention = ql.Unadjusted\n",
      "payment_convention = ql.Unadjusted\n",
      "\n",
      "call_dates = [ql.Date(20,3,2007)]\n",
      "call_price = 100.0\n",
      "put_dates = [ql.Date(20,3,2007), ql.Date(15,3,2012), ql.Date(15,3,2017)]\n",
      "put_price = 100.0\n",
      "\n",
      "# assumptions\n",
      "dividend_yield = 0.02\n",
      "credit_spread_rate = 0.03  \n",
      "risk_free_rate = 0.04\n",
      "volatility = 0.40"
     ],
     "language": "python",
     "metadata": {},
     "outputs": [],
     "prompt_number": 3
    },
    {
     "cell_type": "markdown",
     "metadata": {},
     "source": [
      "The call and put schedule for this bond is created as shown below. Here for each call date, we create a `CallabilityPrice`, then use that to form the `Callability` object. This is appended to the `CallabilitySchedule` object to form a list of call and put schedules."
     ]
    },
    {
     "cell_type": "code",
     "collapsed": false,
     "input": [
      "callability_schedule = ql.CallabilitySchedule()\n",
      "\n",
      "\n",
      "for call_date in call_dates:\n",
      "   callability_price  = ql.CallabilityPrice(call_price, \n",
      "                                            ql.CallabilityPrice.Clean)\n",
      "   callability_schedule.append(ql.Callability(callability_price, \n",
      "                                       ql.Callability.Call,\n",
      "                                       call_date)\n",
      "                        )\n",
      "    \n",
      "for put_date in put_dates:\n",
      "    puttability_price = ql.CallabilityPrice(put_price, \n",
      "                                            ql.CallabilityPrice.Clean)\n",
      "    callability_schedule.append(ql.Callability(puttability_price,\n",
      "                                               ql.Callability.Put,\n",
      "                                               put_date))"
     ],
     "language": "python",
     "metadata": {},
     "outputs": [],
     "prompt_number": 4
    },
    {
     "cell_type": "markdown",
     "metadata": {},
     "source": [
      "Any dividend information for the underlying stock is used to form the `DividendSchedule`."
     ]
    },
    {
     "cell_type": "code",
     "collapsed": false,
     "input": [
      "dividend_schedule = ql.DividendSchedule() # No dividends\n",
      "dividend_amount = dividend_yield*spot_price\n",
      "next_dividend_date = ql.Date(1,12,2004)\n",
      "dividend_amount = spot_price*dividend_yield\n",
      "for i in range(4):\n",
      "    date = calendar.advance(next_dividend_date, 1, ql.Years)\n",
      "    dividend_schedule.append(\n",
      "        ql.FixedDividend(dividend_amount, date)\n",
      "    )\n"
     ],
     "language": "python",
     "metadata": {},
     "outputs": [],
     "prompt_number": 5
    },
    {
     "cell_type": "markdown",
     "metadata": {},
     "source": [
      "Now we bulid the fixed coupon convertible bond object"
     ]
    },
    {
     "cell_type": "code",
     "collapsed": false,
     "input": [
      "\n",
      "\n",
      "schedule = ql.Schedule(issue_date, maturity_date, tenor,\n",
      "                       calendar, accrual_convention, accrual_convention,\n",
      "                       ql.DateGeneration.Backward, False)\n",
      "\n",
      "credit_spread_handle = ql.QuoteHandle(ql.SimpleQuote(credit_spread_rate))\n",
      "exercise = ql.AmericanExercise(calculation_date, maturity_date)\n",
      "\n",
      "convertible_bond = ql.ConvertibleFixedCouponBond(exercise,\n",
      "                                                 conversion_ratio,\n",
      "                                                 dividend_schedule,\n",
      "                                                 callability_schedule, \n",
      "                                                 credit_spread_handle,\n",
      "                                                 issue_date,\n",
      "                                                 settlement_days,\n",
      "                                                 [coupon],\n",
      "                                                 day_count,\n",
      "                                                 schedule,\n",
      "                                                 redemption)"
     ],
     "language": "python",
     "metadata": {},
     "outputs": [],
     "prompt_number": 6
    },
    {
     "cell_type": "markdown",
     "metadata": {},
     "source": [
      "Build the Black-Scholes-Merton process to model the equity part"
     ]
    },
    {
     "cell_type": "code",
     "collapsed": false,
     "input": [
      "\n",
      "\n",
      "\n",
      "spot_price_handle = ql.QuoteHandle(ql.SimpleQuote(spot_price))\n",
      "yield_ts_handle = ql.YieldTermStructureHandle(\n",
      "    ql.FlatForward(calculation_date, risk_free_rate, day_count)\n",
      ")\n",
      "dividend_ts_handle = ql.YieldTermStructureHandle(\n",
      "    ql.FlatForward(calculation_date, dividend_yield, day_count)\n",
      ")\n",
      "volatility_ts_handle = ql.BlackVolTermStructureHandle(\n",
      "    ql.BlackConstantVol(calculation_date, calendar,volatility, day_count)\n",
      ")\n",
      "\n",
      "bsm_process = ql.BlackScholesMertonProcess(spot_price_handle, \n",
      "                                           dividend_ts_handle,\n",
      "                                           yield_ts_handle,\n",
      "                                           volatility_ts_handle)\n"
     ],
     "language": "python",
     "metadata": {},
     "outputs": [],
     "prompt_number": 7
    },
    {
     "cell_type": "markdown",
     "metadata": {},
     "source": [
      "Build the convertible bond pricing engine"
     ]
    },
    {
     "cell_type": "code",
     "collapsed": false,
     "input": [
      "time_steps = 1000\n",
      "engine = ql.BinomialConvertibleEngine(bsm_process, \"crr\", time_steps)"
     ],
     "language": "python",
     "metadata": {},
     "outputs": [],
     "prompt_number": 8
    },
    {
     "cell_type": "markdown",
     "metadata": {},
     "source": [
      "Price the bond"
     ]
    },
    {
     "cell_type": "code",
     "collapsed": false,
     "input": [
      "convertible_bond.setPricingEngine(engine)\n",
      "print \"NPV \", convertible_bond.NPV()"
     ],
     "language": "python",
     "metadata": {},
     "outputs": [
      {
       "output_type": "stream",
       "stream": "stdout",
       "text": [
        "NPV  "
       ]
      },
      {
       "output_type": "stream",
       "stream": "stdout",
       "text": [
        "132.308276818\n"
       ]
      }
     ],
     "prompt_number": 9
    }
   ],
   "metadata": {}
  }
 ]
}